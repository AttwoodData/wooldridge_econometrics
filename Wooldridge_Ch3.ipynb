{
 "cells": [
  {
   "cell_type": "markdown",
   "id": "d62f6c35",
   "metadata": {},
   "source": [
    "# Chapter 3 Examples and Computer Exercises"
   ]
  },
  {
   "cell_type": "markdown",
   "id": "09db10ca",
   "metadata": {},
   "source": [
    "Documentation on datasets can be found at:\n",
    "https://www.rdocumentation.org/packages/wooldridge/versions/1.4-2"
   ]
  },
  {
   "cell_type": "code",
   "execution_count": 115,
   "id": "28d656c4",
   "metadata": {},
   "outputs": [],
   "source": [
    "library(wooldridge)\n",
    "library(dplyr)\n",
    "library(ggplot2)\n",
    "library(broom) # augment()\n",
    "library(gridExtra) # grid.arrange()\n",
    "library(tidyr) # drop_na()\n",
    "# e.g. grid.arrange(gg1,gg2,gg3,layout_matrix=rbind(c(1,1),c(2,3)))"
   ]
  },
  {
   "cell_type": "code",
   "execution_count": 143,
   "id": "20dc6b88",
   "metadata": {},
   "outputs": [],
   "source": [
    "options(scipen=6, digits=4) #turn off scientific notation. set scipen=0, digits=7 switch to default."
   ]
  },
  {
   "cell_type": "markdown",
   "id": "9518d4a4",
   "metadata": {},
   "source": [
    "# Examples\n",
    "\n",
    "## Examples 3.1, 3.4 Determinants of College GPA"
   ]
  },
  {
   "cell_type": "code",
   "execution_count": 5,
   "id": "63991698",
   "metadata": {},
   "outputs": [
    {
     "name": "stdout",
     "output_type": "stream",
     "text": [
      "'data.frame':\t141 obs. of  29 variables:\n",
      " $ age     : int  21 21 20 19 20 20 22 22 22 19 ...\n",
      " $ soph    : int  0 0 0 1 0 0 0 0 0 1 ...\n",
      " $ junior  : int  0 0 1 0 1 0 0 0 0 0 ...\n",
      " $ senior  : int  1 1 0 0 0 1 0 0 0 0 ...\n",
      " $ senior5 : int  0 0 0 0 0 0 1 1 1 0 ...\n",
      " $ male    : int  0 0 0 1 0 1 0 0 0 0 ...\n",
      " $ campus  : int  0 0 0 1 0 1 0 0 0 0 ...\n",
      " $ business: int  1 1 1 1 1 1 1 0 0 1 ...\n",
      " $ engineer: int  0 0 0 0 0 0 0 0 0 0 ...\n",
      " $ colGPA  : num  3 3.4 3 3.5 3.6 ...\n",
      " $ hsGPA   : num  3 3.2 3.6 3.5 3.9 ...\n",
      " $ ACT     : int  21 24 26 27 28 25 25 22 21 27 ...\n",
      " $ job19   : int  0 0 1 1 0 0 0 1 1 1 ...\n",
      " $ job20   : int  1 1 0 0 1 0 0 0 0 0 ...\n",
      " $ drive   : int  1 1 0 0 0 0 0 1 1 0 ...\n",
      " $ bike    : int  0 0 0 0 1 0 1 0 0 0 ...\n",
      " $ walk    : int  0 0 1 1 0 1 0 0 0 1 ...\n",
      " $ voluntr : int  0 0 0 0 0 0 0 0 0 0 ...\n",
      " $ PC      : int  0 0 0 0 0 0 0 1 0 1 ...\n",
      " $ greek   : int  0 0 0 0 0 0 1 0 0 0 ...\n",
      " $ car     : int  1 1 1 0 1 1 1 0 1 0 ...\n",
      " $ siblings: int  1 0 1 1 1 1 1 1 1 1 ...\n",
      " $ bgfriend: int  0 1 0 0 1 0 0 1 1 0 ...\n",
      " $ clubs   : int  0 1 1 0 0 0 1 0 1 1 ...\n",
      " $ skipped : num  2 0 0 0 0 0 0 3 2 0.5 ...\n",
      " $ alcohol : num  1 1 1 0 1.5 0 2 3 2.5 0.75 ...\n",
      " $ gradMI  : int  1 1 1 0 1 0 1 1 1 1 ...\n",
      " $ fathcoll: int  0 1 1 0 1 1 0 1 1 0 ...\n",
      " $ mothcoll: int  0 1 1 0 0 0 1 1 1 1 ...\n",
      " - attr(*, \"time.stamp\")= chr \"25 Jun 2011 23:03\"\n"
     ]
    }
   ],
   "source": [
    "str(gpa1)"
   ]
  },
  {
   "cell_type": "code",
   "execution_count": 7,
   "id": "1e98a445",
   "metadata": {},
   "outputs": [
    {
     "data": {
      "text/plain": [
       "\n",
       "Call:\n",
       "lm(formula = colGPA ~ hsGPA + ACT, data = gpa1)\n",
       "\n",
       "Residuals:\n",
       "     Min       1Q   Median       3Q      Max \n",
       "-0.85442 -0.24666 -0.02614  0.28127  0.85357 \n",
       "\n",
       "Coefficients:\n",
       "            Estimate Std. Error t value Pr(>|t|)    \n",
       "(Intercept) 1.286328   0.340822   3.774 0.000238 ***\n",
       "hsGPA       0.453456   0.095813   4.733 5.42e-06 ***\n",
       "ACT         0.009426   0.010777   0.875 0.383297    \n",
       "---\n",
       "Signif. codes:  0 ‘***’ 0.001 ‘**’ 0.01 ‘*’ 0.05 ‘.’ 0.1 ‘ ’ 1\n",
       "\n",
       "Residual standard error: 0.3403 on 138 degrees of freedom\n",
       "Multiple R-squared:  0.1764,\tAdjusted R-squared:  0.1645 \n",
       "F-statistic: 14.78 on 2 and 138 DF,  p-value: 1.526e-06\n"
      ]
     },
     "metadata": {},
     "output_type": "display_data"
    }
   ],
   "source": [
    "model <- lm(colGPA ~ hsGPA + ACT, gpa1)\n",
    "summary(model)"
   ]
  },
  {
   "cell_type": "code",
   "execution_count": 38,
   "id": "2f3a8765",
   "metadata": {},
   "outputs": [
    {
     "data": {
      "text/html": [
       "<table class=\"dataframe\">\n",
       "<caption>A matrix: 2 × 4 of type dbl</caption>\n",
       "<thead>\n",
       "\t<tr><th></th><th scope=col>Estimate</th><th scope=col>Std. Error</th><th scope=col>t value</th><th scope=col>Pr(&gt;|t|)</th></tr>\n",
       "</thead>\n",
       "<tbody>\n",
       "\t<tr><th scope=row>(Intercept)</th><td>2.403</td><td>0.264</td><td>9.095</td><td>0.000</td></tr>\n",
       "\t<tr><th scope=row>ACT</th><td>0.027</td><td>0.011</td><td>2.491</td><td>0.014</td></tr>\n",
       "</tbody>\n",
       "</table>\n"
      ],
      "text/latex": [
       "A matrix: 2 × 4 of type dbl\n",
       "\\begin{tabular}{r|llll}\n",
       "  & Estimate & Std. Error & t value & Pr(>\\textbar{}t\\textbar{})\\\\\n",
       "\\hline\n",
       "\t(Intercept) & 2.403 & 0.264 & 9.095 & 0.000\\\\\n",
       "\tACT & 0.027 & 0.011 & 2.491 & 0.014\\\\\n",
       "\\end{tabular}\n"
      ],
      "text/markdown": [
       "\n",
       "A matrix: 2 × 4 of type dbl\n",
       "\n",
       "| <!--/--> | Estimate | Std. Error | t value | Pr(&gt;|t|) |\n",
       "|---|---|---|---|---|\n",
       "| (Intercept) | 2.403 | 0.264 | 9.095 | 0.000 |\n",
       "| ACT | 0.027 | 0.011 | 2.491 | 0.014 |\n",
       "\n"
      ],
      "text/plain": [
       "            Estimate Std. Error t value Pr(>|t|)\n",
       "(Intercept) 2.403    0.264      9.095   0.000   \n",
       "ACT         0.027    0.011      2.491   0.014   "
      ]
     },
     "metadata": {},
     "output_type": "display_data"
    }
   ],
   "source": [
    "round(summary(lm(colGPA ~ ACT, gpa1))$coefficients, 3)"
   ]
  },
  {
   "cell_type": "code",
   "execution_count": null,
   "id": "ec84d0b1",
   "metadata": {},
   "outputs": [],
   "source": []
  },
  {
   "cell_type": "code",
   "execution_count": null,
   "id": "68b6f481",
   "metadata": {},
   "outputs": [],
   "source": []
  },
  {
   "cell_type": "markdown",
   "id": "72941b70",
   "metadata": {},
   "source": [
    "## Example 3.2 Hourly Wage Equation"
   ]
  },
  {
   "cell_type": "code",
   "execution_count": 9,
   "id": "d7cfe0b6",
   "metadata": {},
   "outputs": [
    {
     "name": "stdout",
     "output_type": "stream",
     "text": [
      "'data.frame':\t526 obs. of  24 variables:\n",
      " $ wage    : num  3.1 3.24 3 6 5.3 ...\n",
      " $ educ    : int  11 12 11 8 12 16 18 12 12 17 ...\n",
      " $ exper   : int  2 22 2 44 7 9 15 5 26 22 ...\n",
      " $ tenure  : int  0 2 0 28 2 8 7 3 4 21 ...\n",
      " $ nonwhite: int  0 0 0 0 0 0 0 0 0 0 ...\n",
      " $ female  : int  1 1 0 0 0 0 0 1 1 0 ...\n",
      " $ married : int  0 1 0 1 1 1 0 0 0 1 ...\n",
      " $ numdep  : int  2 3 2 0 1 0 0 0 2 0 ...\n",
      " $ smsa    : int  1 1 0 1 0 1 1 1 1 1 ...\n",
      " $ northcen: int  0 0 0 0 0 0 0 0 0 0 ...\n",
      " $ south   : int  0 0 0 0 0 0 0 0 0 0 ...\n",
      " $ west    : int  1 1 1 1 1 1 1 1 1 1 ...\n",
      " $ construc: int  0 0 0 0 0 0 0 0 0 0 ...\n",
      " $ ndurman : int  0 0 0 0 0 0 0 0 0 0 ...\n",
      " $ trcommpu: int  0 0 0 0 0 0 0 0 0 0 ...\n",
      " $ trade   : int  0 0 1 0 0 0 1 0 1 0 ...\n",
      " $ services: int  0 1 0 0 0 0 0 0 0 0 ...\n",
      " $ profserv: int  0 0 0 0 0 1 0 0 0 0 ...\n",
      " $ profocc : int  0 0 0 0 0 1 1 1 1 1 ...\n",
      " $ clerocc : int  0 0 0 1 0 0 0 0 0 0 ...\n",
      " $ servocc : int  0 1 0 0 0 0 0 0 0 0 ...\n",
      " $ lwage   : num  1.13 1.18 1.1 1.79 1.67 ...\n",
      " $ expersq : int  4 484 4 1936 49 81 225 25 676 484 ...\n",
      " $ tenursq : int  0 4 0 784 4 64 49 9 16 441 ...\n",
      " - attr(*, \"time.stamp\")= chr \"25 Jun 2011 23:03\"\n"
     ]
    }
   ],
   "source": [
    "str(wage1)"
   ]
  },
  {
   "cell_type": "code",
   "execution_count": 10,
   "id": "37943a61",
   "metadata": {},
   "outputs": [
    {
     "data": {
      "text/plain": [
       "\n",
       "Call:\n",
       "lm(formula = lwage ~ educ + exper + tenure, data = wage1)\n",
       "\n",
       "Residuals:\n",
       "     Min       1Q   Median       3Q      Max \n",
       "-2.05802 -0.29645 -0.03265  0.28788  1.42809 \n",
       "\n",
       "Coefficients:\n",
       "            Estimate Std. Error t value Pr(>|t|)    \n",
       "(Intercept) 0.284360   0.104190   2.729  0.00656 ** \n",
       "educ        0.092029   0.007330  12.555  < 2e-16 ***\n",
       "exper       0.004121   0.001723   2.391  0.01714 *  \n",
       "tenure      0.022067   0.003094   7.133 3.29e-12 ***\n",
       "---\n",
       "Signif. codes:  0 ‘***’ 0.001 ‘**’ 0.01 ‘*’ 0.05 ‘.’ 0.1 ‘ ’ 1\n",
       "\n",
       "Residual standard error: 0.4409 on 522 degrees of freedom\n",
       "Multiple R-squared:  0.316,\tAdjusted R-squared:  0.3121 \n",
       "F-statistic: 80.39 on 3 and 522 DF,  p-value: < 2.2e-16\n"
      ]
     },
     "metadata": {},
     "output_type": "display_data"
    }
   ],
   "source": [
    "model <- lm(lwage ~ educ + exper + tenure, wage1)\n",
    "summary(model)"
   ]
  },
  {
   "cell_type": "code",
   "execution_count": null,
   "id": "3d3a0e79",
   "metadata": {},
   "outputs": [],
   "source": []
  },
  {
   "cell_type": "markdown",
   "id": "53ff6a74",
   "metadata": {},
   "source": [
    "## Example 3.3 Participation in 401(k) Pension Plans"
   ]
  },
  {
   "cell_type": "markdown",
   "id": "e3be5195",
   "metadata": {},
   "source": [
    "#### str(k401k)"
   ]
  },
  {
   "cell_type": "code",
   "execution_count": 35,
   "id": "b6d4d0d7",
   "metadata": {},
   "outputs": [
    {
     "data": {
      "text/html": [
       "<table class=\"dataframe\">\n",
       "<caption>A matrix: 3 × 4 of type dbl</caption>\n",
       "<thead>\n",
       "\t<tr><th></th><th scope=col>Estimate</th><th scope=col>Std. Error</th><th scope=col>t value</th><th scope=col>Pr(&gt;|t|)</th></tr>\n",
       "</thead>\n",
       "<tbody>\n",
       "\t<tr><th scope=row>(Intercept)</th><td>80.12</td><td>0.78</td><td>102.85</td><td>0</td></tr>\n",
       "\t<tr><th scope=row>mrate</th><td> 5.52</td><td>0.53</td><td> 10.50</td><td>0</td></tr>\n",
       "\t<tr><th scope=row>age</th><td> 0.24</td><td>0.04</td><td>  5.44</td><td>0</td></tr>\n",
       "</tbody>\n",
       "</table>\n"
      ],
      "text/latex": [
       "A matrix: 3 × 4 of type dbl\n",
       "\\begin{tabular}{r|llll}\n",
       "  & Estimate & Std. Error & t value & Pr(>\\textbar{}t\\textbar{})\\\\\n",
       "\\hline\n",
       "\t(Intercept) & 80.12 & 0.78 & 102.85 & 0\\\\\n",
       "\tmrate &  5.52 & 0.53 &  10.50 & 0\\\\\n",
       "\tage &  0.24 & 0.04 &   5.44 & 0\\\\\n",
       "\\end{tabular}\n"
      ],
      "text/markdown": [
       "\n",
       "A matrix: 3 × 4 of type dbl\n",
       "\n",
       "| <!--/--> | Estimate | Std. Error | t value | Pr(&gt;|t|) |\n",
       "|---|---|---|---|---|\n",
       "| (Intercept) | 80.12 | 0.78 | 102.85 | 0 |\n",
       "| mrate |  5.52 | 0.53 |  10.50 | 0 |\n",
       "| age |  0.24 | 0.04 |   5.44 | 0 |\n",
       "\n"
      ],
      "text/plain": [
       "            Estimate Std. Error t value Pr(>|t|)\n",
       "(Intercept) 80.12    0.78       102.85  0       \n",
       "mrate        5.52    0.53        10.50  0       \n",
       "age          0.24    0.04         5.44  0       "
      ]
     },
     "metadata": {},
     "output_type": "display_data"
    }
   ],
   "source": [
    "round(summary(lm(prate ~ mrate + age, k401k))$coefficients, 2)"
   ]
  },
  {
   "cell_type": "code",
   "execution_count": 34,
   "id": "71455b45",
   "metadata": {},
   "outputs": [
    {
     "data": {
      "text/html": [
       "<table class=\"dataframe\">\n",
       "<caption>A matrix: 2 × 4 of type dbl</caption>\n",
       "<thead>\n",
       "\t<tr><th></th><th scope=col>Estimate</th><th scope=col>Std. Error</th><th scope=col>t value</th><th scope=col>Pr(&gt;|t|)</th></tr>\n",
       "</thead>\n",
       "<tbody>\n",
       "\t<tr><th scope=row>(Intercept)</th><td>83.08</td><td>0.56</td><td>147.48</td><td>0</td></tr>\n",
       "\t<tr><th scope=row>mrate</th><td> 5.86</td><td>0.53</td><td> 11.12</td><td>0</td></tr>\n",
       "</tbody>\n",
       "</table>\n"
      ],
      "text/latex": [
       "A matrix: 2 × 4 of type dbl\n",
       "\\begin{tabular}{r|llll}\n",
       "  & Estimate & Std. Error & t value & Pr(>\\textbar{}t\\textbar{})\\\\\n",
       "\\hline\n",
       "\t(Intercept) & 83.08 & 0.56 & 147.48 & 0\\\\\n",
       "\tmrate &  5.86 & 0.53 &  11.12 & 0\\\\\n",
       "\\end{tabular}\n"
      ],
      "text/markdown": [
       "\n",
       "A matrix: 2 × 4 of type dbl\n",
       "\n",
       "| <!--/--> | Estimate | Std. Error | t value | Pr(&gt;|t|) |\n",
       "|---|---|---|---|---|\n",
       "| (Intercept) | 83.08 | 0.56 | 147.48 | 0 |\n",
       "| mrate |  5.86 | 0.53 |  11.12 | 0 |\n",
       "\n"
      ],
      "text/plain": [
       "            Estimate Std. Error t value Pr(>|t|)\n",
       "(Intercept) 83.08    0.56       147.48  0       \n",
       "mrate        5.86    0.53        11.12  0       "
      ]
     },
     "metadata": {},
     "output_type": "display_data"
    }
   ],
   "source": [
    "round(summary(lm(prate ~ mrate, k401k))$coefficients, 2)"
   ]
  },
  {
   "cell_type": "code",
   "execution_count": null,
   "id": "8debeaca",
   "metadata": {},
   "outputs": [],
   "source": []
  },
  {
   "cell_type": "markdown",
   "id": "c233cba1",
   "metadata": {},
   "source": [
    "## Example 3.5 Explaining Arrest Records"
   ]
  },
  {
   "cell_type": "code",
   "execution_count": 39,
   "id": "f10fa315",
   "metadata": {},
   "outputs": [
    {
     "name": "stdout",
     "output_type": "stream",
     "text": [
      "'data.frame':\t2725 obs. of  16 variables:\n",
      " $ narr86 : int  0 2 1 2 1 0 2 5 0 0 ...\n",
      " $ nfarr86: int  0 2 1 2 1 0 2 3 0 0 ...\n",
      " $ nparr86: int  0 0 0 1 0 0 1 5 0 0 ...\n",
      " $ pcnv   : num  0.38 0.44 0.33 0.25 0 ...\n",
      " $ avgsen : num  17.6 0 22.8 0 0 ...\n",
      " $ tottime: num  35.2 0 22.8 0 0 ...\n",
      " $ ptime86: int  12 0 0 5 0 0 0 0 9 0 ...\n",
      " $ qemp86 : num  0 1 0 2 2 4 0 0 0 3 ...\n",
      " $ inc86  : num  0 0.8 0 8.8 8.1 ...\n",
      " $ durat  : num  0 0 11 0 1 ...\n",
      " $ black  : int  0 0 1 0 0 0 1 0 1 0 ...\n",
      " $ hispan : int  0 1 0 1 0 0 0 0 0 1 ...\n",
      " $ born60 : int  1 0 1 1 0 1 1 1 1 1 ...\n",
      " $ pcnvsq : num  0.1444 0.1936 0.1089 0.0625 0 ...\n",
      " $ pt86sq : int  144 0 0 25 0 0 0 0 81 0 ...\n",
      " $ inc86sq: num  0 0.64 0 77.44 65.61 ...\n",
      " - attr(*, \"time.stamp\")= chr \"25 Jun 2011 23:03\"\n"
     ]
    }
   ],
   "source": [
    "str(crime1)"
   ]
  },
  {
   "cell_type": "code",
   "execution_count": 42,
   "id": "276ab624",
   "metadata": {},
   "outputs": [
    {
     "data": {
      "text/plain": [
       "\n",
       "Call:\n",
       "lm(formula = narr86 ~ pcnv + ptime86 + qemp86, data = crime1)\n",
       "\n",
       "Residuals:\n",
       "    Min      1Q  Median      3Q     Max \n",
       "-0.7118 -0.4031 -0.2953  0.3452 11.4358 \n",
       "\n",
       "Coefficients:\n",
       "             Estimate Std. Error t value Pr(>|t|)    \n",
       "(Intercept)  0.711772   0.033007  21.565  < 2e-16 ***\n",
       "pcnv        -0.149927   0.040865  -3.669 0.000248 ***\n",
       "ptime86     -0.034420   0.008591  -4.007 6.33e-05 ***\n",
       "qemp86      -0.104113   0.010388 -10.023  < 2e-16 ***\n",
       "---\n",
       "Signif. codes:  0 ‘***’ 0.001 ‘**’ 0.01 ‘*’ 0.05 ‘.’ 0.1 ‘ ’ 1\n",
       "\n",
       "Residual standard error: 0.8416 on 2721 degrees of freedom\n",
       "Multiple R-squared:  0.04132,\tAdjusted R-squared:  0.04027 \n",
       "F-statistic:  39.1 on 3 and 2721 DF,  p-value: < 2.2e-16\n"
      ]
     },
     "metadata": {},
     "output_type": "display_data"
    }
   ],
   "source": [
    "model <- lm(narr86 ~ pcnv + ptime86 + qemp86, crime1)\n",
    "summary(model)"
   ]
  },
  {
   "cell_type": "code",
   "execution_count": 43,
   "id": "f48c35fd",
   "metadata": {},
   "outputs": [
    {
     "data": {
      "text/plain": [
       "\n",
       "Call:\n",
       "lm(formula = narr86 ~ pcnv + avgsen + ptime86 + qemp86, data = crime1)\n",
       "\n",
       "Residuals:\n",
       "    Min      1Q  Median      3Q     Max \n",
       "-0.9330 -0.4247 -0.2934  0.3506 11.4403 \n",
       "\n",
       "Coefficients:\n",
       "             Estimate Std. Error t value Pr(>|t|)    \n",
       "(Intercept)  0.706756   0.033151  21.319  < 2e-16 ***\n",
       "pcnv        -0.150832   0.040858  -3.692 0.000227 ***\n",
       "avgsen       0.007443   0.004734   1.572 0.115993    \n",
       "ptime86     -0.037391   0.008794  -4.252 2.19e-05 ***\n",
       "qemp86      -0.103341   0.010396  -9.940  < 2e-16 ***\n",
       "---\n",
       "Signif. codes:  0 ‘***’ 0.001 ‘**’ 0.01 ‘*’ 0.05 ‘.’ 0.1 ‘ ’ 1\n",
       "\n",
       "Residual standard error: 0.8414 on 2720 degrees of freedom\n",
       "Multiple R-squared:  0.04219,\tAdjusted R-squared:  0.04079 \n",
       "F-statistic: 29.96 on 4 and 2720 DF,  p-value: < 2.2e-16\n"
      ]
     },
     "metadata": {},
     "output_type": "display_data"
    }
   ],
   "source": [
    "model <- lm(narr86 ~ pcnv + avgsen + ptime86 + qemp86, crime1)\n",
    "summary(model)"
   ]
  },
  {
   "cell_type": "code",
   "execution_count": null,
   "id": "603dcfdf",
   "metadata": {},
   "outputs": [],
   "source": []
  },
  {
   "cell_type": "code",
   "execution_count": null,
   "id": "f60f866a",
   "metadata": {},
   "outputs": [],
   "source": []
  },
  {
   "cell_type": "markdown",
   "id": "47a77b23",
   "metadata": {},
   "source": [
    "# Computer Exercises\n",
    "\n",
    "## C1"
   ]
  },
  {
   "cell_type": "markdown",
   "id": "4af85b7c",
   "metadata": {},
   "source": [
    "(i) \" - \" Lower birthweights should be associated with cigarette usage\n",
    "\n",
    "(ii) Yes, a draw from a lower income group is more likely to smoke"
   ]
  },
  {
   "cell_type": "code",
   "execution_count": 45,
   "id": "1a7de986",
   "metadata": {},
   "outputs": [
    {
     "name": "stdout",
     "output_type": "stream",
     "text": [
      "'data.frame':\t1388 obs. of  14 variables:\n",
      " $ faminc  : num  13.5 7.5 0.5 15.5 27.5 7.5 65 27.5 27.5 37.5 ...\n",
      " $ cigtax  : num  16.5 16.5 16.5 16.5 16.5 16.5 16.5 16.5 16.5 16.5 ...\n",
      " $ cigprice: num  122 122 122 122 122 ...\n",
      " $ bwght   : int  109 133 129 126 134 118 140 86 121 129 ...\n",
      " $ fatheduc: int  12 6 NA 12 14 12 16 12 12 16 ...\n",
      " $ motheduc: int  12 12 12 12 12 14 14 14 17 18 ...\n",
      " $ parity  : int  1 2 2 2 2 6 2 2 2 2 ...\n",
      " $ male    : int  1 1 0 1 1 1 0 0 0 0 ...\n",
      " $ white   : int  1 0 0 0 1 0 1 0 1 1 ...\n",
      " $ cigs    : int  0 0 0 0 0 0 0 0 0 0 ...\n",
      " $ lbwght  : num  4.69 4.89 4.86 4.84 4.9 ...\n",
      " $ bwghtlbs: num  6.81 8.31 8.06 7.88 8.38 ...\n",
      " $ packs   : num  0 0 0 0 0 0 0 0 0 0 ...\n",
      " $ lfaminc : num  2.603 2.015 -0.693 2.741 3.314 ...\n",
      " - attr(*, \"time.stamp\")= chr \"25 Jun 2011 23:03\"\n"
     ]
    }
   ],
   "source": [
    "str(bwght)"
   ]
  },
  {
   "cell_type": "code",
   "execution_count": 49,
   "id": "a970d78c",
   "metadata": {},
   "outputs": [
    {
     "data": {
      "text/plain": [
       "\n",
       "Call:\n",
       "lm(formula = bwght ~ cigs, data = bwght)\n",
       "\n",
       "Residuals:\n",
       "    Min      1Q  Median      3Q     Max \n",
       "-96.772 -11.772   0.297  13.228 151.228 \n",
       "\n",
       "Coefficients:\n",
       "             Estimate Std. Error t value Pr(>|t|)    \n",
       "(Intercept) 119.77190    0.57234 209.267  < 2e-16 ***\n",
       "cigs         -0.51377    0.09049  -5.678 1.66e-08 ***\n",
       "---\n",
       "Signif. codes:  0 ‘***’ 0.001 ‘**’ 0.01 ‘*’ 0.05 ‘.’ 0.1 ‘ ’ 1\n",
       "\n",
       "Residual standard error: 20.13 on 1386 degrees of freedom\n",
       "Multiple R-squared:  0.02273,\tAdjusted R-squared:  0.02202 \n",
       "F-statistic: 32.24 on 1 and 1386 DF,  p-value: 1.662e-08\n"
      ]
     },
     "metadata": {},
     "output_type": "display_data"
    }
   ],
   "source": [
    "summary(lm(bwght ~ cigs, bwght))"
   ]
  },
  {
   "cell_type": "code",
   "execution_count": 50,
   "id": "903c62d1",
   "metadata": {},
   "outputs": [
    {
     "data": {
      "text/plain": [
       "\n",
       "Call:\n",
       "lm(formula = bwght ~ cigs + faminc, data = bwght)\n",
       "\n",
       "Residuals:\n",
       "    Min      1Q  Median      3Q     Max \n",
       "-96.061 -11.543   0.638  13.126 150.083 \n",
       "\n",
       "Coefficients:\n",
       "             Estimate Std. Error t value Pr(>|t|)    \n",
       "(Intercept) 116.97413    1.04898 111.512  < 2e-16 ***\n",
       "cigs         -0.46341    0.09158  -5.060 4.75e-07 ***\n",
       "faminc        0.09276    0.02919   3.178  0.00151 ** \n",
       "---\n",
       "Signif. codes:  0 ‘***’ 0.001 ‘**’ 0.01 ‘*’ 0.05 ‘.’ 0.1 ‘ ’ 1\n",
       "\n",
       "Residual standard error: 20.06 on 1385 degrees of freedom\n",
       "Multiple R-squared:  0.0298,\tAdjusted R-squared:  0.0284 \n",
       "F-statistic: 21.27 on 2 and 1385 DF,  p-value: 7.942e-10\n"
      ]
     },
     "metadata": {},
     "output_type": "display_data"
    }
   ],
   "source": [
    "summary(lm(bwght ~ cigs + faminc, bwght))"
   ]
  },
  {
   "cell_type": "code",
   "execution_count": 8,
   "id": "a546e810",
   "metadata": {},
   "outputs": [],
   "source": [
    "data <- bwght %>% mutate(cigs_bi = case_when(\n",
    "cigs == 0 ~ 0,\n",
    "cigs != 0 ~ 1))"
   ]
  },
  {
   "cell_type": "code",
   "execution_count": 15,
   "id": "15bf4139",
   "metadata": {},
   "outputs": [
    {
     "data": {
      "text/html": [
       "<table class=\"dataframe\">\n",
       "<caption>A data.frame: 2 × 2</caption>\n",
       "<thead>\n",
       "\t<tr><th scope=col>cigs_bi</th><th scope=col>n</th></tr>\n",
       "\t<tr><th scope=col>&lt;dbl&gt;</th><th scope=col>&lt;int&gt;</th></tr>\n",
       "</thead>\n",
       "<tbody>\n",
       "\t<tr><td>0</td><td>1176</td></tr>\n",
       "\t<tr><td>1</td><td> 212</td></tr>\n",
       "</tbody>\n",
       "</table>\n"
      ],
      "text/latex": [
       "A data.frame: 2 × 2\n",
       "\\begin{tabular}{ll}\n",
       " cigs\\_bi & n\\\\\n",
       " <dbl> & <int>\\\\\n",
       "\\hline\n",
       "\t 0 & 1176\\\\\n",
       "\t 1 &  212\\\\\n",
       "\\end{tabular}\n"
      ],
      "text/markdown": [
       "\n",
       "A data.frame: 2 × 2\n",
       "\n",
       "| cigs_bi &lt;dbl&gt; | n &lt;int&gt; |\n",
       "|---|---|\n",
       "| 0 | 1176 |\n",
       "| 1 |  212 |\n",
       "\n"
      ],
      "text/plain": [
       "  cigs_bi n   \n",
       "1 0       1176\n",
       "2 1        212"
      ]
     },
     "metadata": {},
     "output_type": "display_data"
    }
   ],
   "source": [
    "count(data, cigs_bi, sort=TRUE)"
   ]
  },
  {
   "cell_type": "code",
   "execution_count": 9,
   "id": "0cc526cd",
   "metadata": {},
   "outputs": [
    {
     "data": {
      "text/plain": [
       "\n",
       "Call:\n",
       "glm(formula = cigs_bi ~ faminc, family = binomial, data = data)\n",
       "\n",
       "Deviance Residuals: \n",
       "    Min       1Q   Median       3Q      Max  \n",
       "-0.8253  -0.6376  -0.5165  -0.3104   2.4726  \n",
       "\n",
       "Coefficients:\n",
       "             Estimate Std. Error z value Pr(>|z|)    \n",
       "(Intercept) -0.885669   0.132258  -6.697 2.13e-11 ***\n",
       "faminc      -0.032661   0.004911  -6.650 2.92e-11 ***\n",
       "---\n",
       "Signif. codes:  0 ‘***’ 0.001 ‘**’ 0.01 ‘*’ 0.05 ‘.’ 0.1 ‘ ’ 1\n",
       "\n",
       "(Dispersion parameter for binomial family taken to be 1)\n",
       "\n",
       "    Null deviance: 1186.5  on 1387  degrees of freedom\n",
       "Residual deviance: 1134.3  on 1386  degrees of freedom\n",
       "AIC: 1138.3\n",
       "\n",
       "Number of Fisher Scoring iterations: 5\n"
      ]
     },
     "metadata": {},
     "output_type": "display_data"
    }
   ],
   "source": [
    "model <- glm(cigs_bi ~ faminc, family=binomial, data=data)\n",
    "summary(model)"
   ]
  },
  {
   "cell_type": "code",
   "execution_count": 30,
   "id": "dd315169",
   "metadata": {},
   "outputs": [
    {
     "data": {
      "text/plain": [
       "\n",
       "Call:\n",
       "lm(formula = cigs ~ faminc, data = data)\n",
       "\n",
       "Residuals:\n",
       "   Min     1Q Median     3Q    Max \n",
       "-3.661 -2.668 -1.896 -0.103 47.829 \n",
       "\n",
       "Coefficients:\n",
       "             Estimate Std. Error t value Pr(>|t|)    \n",
       "(Intercept)  3.688107   0.291297  12.661  < 2e-16 ***\n",
       "faminc      -0.055154   0.008432  -6.541 8.58e-11 ***\n",
       "---\n",
       "Signif. codes:  0 ‘***’ 0.001 ‘**’ 0.01 ‘*’ 0.05 ‘.’ 0.1 ‘ ’ 1\n",
       "\n",
       "Residual standard error: 5.885 on 1386 degrees of freedom\n",
       "Multiple R-squared:  0.02994,\tAdjusted R-squared:  0.02924 \n",
       "F-statistic: 42.78 on 1 and 1386 DF,  p-value: 8.575e-11\n"
      ]
     },
     "metadata": {},
     "output_type": "display_data"
    }
   ],
   "source": [
    "summary(lm(cigs~faminc, data))"
   ]
  },
  {
   "cell_type": "code",
   "execution_count": null,
   "id": "2c082bfc",
   "metadata": {},
   "outputs": [],
   "source": []
  },
  {
   "cell_type": "markdown",
   "id": "c63f6952",
   "metadata": {},
   "source": [
    "## C2"
   ]
  },
  {
   "cell_type": "code",
   "execution_count": 33,
   "id": "dcff23cb",
   "metadata": {},
   "outputs": [
    {
     "name": "stdout",
     "output_type": "stream",
     "text": [
      "'data.frame':\t88 obs. of  10 variables:\n",
      " $ price   : num  300 370 191 195 373 ...\n",
      " $ assess  : num  349 352 218 232 319 ...\n",
      " $ bdrms   : int  4 3 3 3 4 5 3 3 3 3 ...\n",
      " $ lotsize : num  6126 9903 5200 4600 6095 ...\n",
      " $ sqrft   : int  2438 2076 1374 1448 2514 2754 2067 1731 1767 1890 ...\n",
      " $ colonial: int  1 1 0 1 1 1 1 1 0 0 ...\n",
      " $ lprice  : num  5.7 5.91 5.25 5.27 5.92 ...\n",
      " $ lassess : num  5.86 5.86 5.38 5.45 5.77 ...\n",
      " $ llotsize: num  8.72 9.2 8.56 8.43 8.72 ...\n",
      " $ lsqrft  : num  7.8 7.64 7.23 7.28 7.83 ...\n",
      " - attr(*, \"time.stamp\")= chr \"25 Jun 2011 23:03\"\n"
     ]
    }
   ],
   "source": [
    "str(hprice1)"
   ]
  },
  {
   "cell_type": "code",
   "execution_count": 32,
   "id": "8d18777b",
   "metadata": {},
   "outputs": [
    {
     "data": {
      "text/plain": [
       "\n",
       "Call:\n",
       "lm(formula = price ~ sqrft + bdrms, data = hprice1)\n",
       "\n",
       "Residuals:\n",
       "     Min       1Q   Median       3Q      Max \n",
       "-127.627  -42.876   -7.051   32.589  229.003 \n",
       "\n",
       "Coefficients:\n",
       "             Estimate Std. Error t value Pr(>|t|)    \n",
       "(Intercept) -19.31500   31.04662  -0.622    0.536    \n",
       "sqrft         0.12844    0.01382   9.291 1.39e-14 ***\n",
       "bdrms        15.19819    9.48352   1.603    0.113    \n",
       "---\n",
       "Signif. codes:  0 ‘***’ 0.001 ‘**’ 0.01 ‘*’ 0.05 ‘.’ 0.1 ‘ ’ 1\n",
       "\n",
       "Residual standard error: 63.04 on 85 degrees of freedom\n",
       "Multiple R-squared:  0.6319,\tAdjusted R-squared:  0.6233 \n",
       "F-statistic: 72.96 on 2 and 85 DF,  p-value: < 2.2e-16\n"
      ]
     },
     "metadata": {},
     "output_type": "display_data"
    }
   ],
   "source": [
    "# (i)\n",
    "model <- lm(price ~ sqrft + bdrms, hprice1)\n",
    "summary(model)"
   ]
  },
  {
   "cell_type": "code",
   "execution_count": 35,
   "id": "4c3a3db8",
   "metadata": {},
   "outputs": [
    {
     "data": {
      "text/html": [
       "0.531473641084709"
      ],
      "text/latex": [
       "0.531473641084709"
      ],
      "text/markdown": [
       "0.531473641084709"
      ],
      "text/plain": [
       "[1] 0.5314736"
      ]
     },
     "metadata": {},
     "output_type": "display_data"
    }
   ],
   "source": [
    "cor(hprice1$sqrft, hprice1$bdrms)"
   ]
  },
  {
   "cell_type": "markdown",
   "id": "fc45d120",
   "metadata": {},
   "source": [
    "(i) $price = -19.32 + 0.13 * sqrft + 15.20 * bdrms$\n",
    "\n",
    "(ii) 15.20\n",
    "\n",
    "(iii) 15.20 + 0.13 * 140 = 33.4\n",
    "\n",
    "(iv) R-squared = 0.632, 63.2% of the variation in price is explained by sqrft and bdrms\n",
    "\n",
    "(v) 354.6052\n",
    "\n",
    "(vi) The residual from the estimation on the first observation is 54.6052. The standard errors of the coefficients would suggest a price range of 354.6 +/- 37.85. It would seem the buyers got a good deal based off of our model."
   ]
  },
  {
   "cell_type": "code",
   "execution_count": 36,
   "id": "94caacf5",
   "metadata": {
    "scrolled": true
   },
   "outputs": [
    {
     "data": {
      "text/html": [
       "<table class=\"dataframe\">\n",
       "<caption>A tibble: 6 × 9</caption>\n",
       "<thead>\n",
       "\t<tr><th scope=col>price</th><th scope=col>sqrft</th><th scope=col>bdrms</th><th scope=col>.fitted</th><th scope=col>.resid</th><th scope=col>.hat</th><th scope=col>.sigma</th><th scope=col>.cooksd</th><th scope=col>.std.resid</th></tr>\n",
       "\t<tr><th scope=col>&lt;dbl&gt;</th><th scope=col>&lt;int&gt;</th><th scope=col>&lt;int&gt;</th><th scope=col>&lt;dbl&gt;</th><th scope=col>&lt;dbl&gt;</th><th scope=col>&lt;dbl&gt;</th><th scope=col>&lt;dbl&gt;</th><th scope=col>&lt;dbl&gt;</th><th scope=col>&lt;dbl&gt;</th></tr>\n",
       "</thead>\n",
       "<tbody>\n",
       "\t<tr><td>300.000</td><td>2438</td><td>4</td><td>354.6052</td><td>-54.605249</td><td>0.01781566</td><td>63.13341</td><td>0.0046181120</td><td>-0.8739536</td></tr>\n",
       "\t<tr><td>370.000</td><td>2076</td><td>3</td><td>292.9131</td><td> 77.086850</td><td>0.02009644</td><td>62.84724</td><td>0.0104302034</td><td> 1.2352052</td></tr>\n",
       "\t<tr><td>191.000</td><td>1374</td><td>3</td><td>202.7509</td><td>-11.750930</td><td>0.02560120</td><td>63.40569</td><td>0.0003122562</td><td>-0.1888228</td></tr>\n",
       "\t<tr><td>195.000</td><td>1448</td><td>3</td><td>212.2552</td><td>-17.255210</td><td>0.02278638</td><td>63.39039</td><td>0.0005958220</td><td>-0.2768700</td></tr>\n",
       "\t<tr><td>373.000</td><td>2514</td><td>4</td><td>364.3664</td><td>  8.633599</td><td>0.02004388</td><td>63.41185</td><td>0.0001304764</td><td> 0.1383372</td></tr>\n",
       "\t<tr><td>466.275</td><td>2754</td><td>5</td><td>410.3893</td><td> 55.885711</td><td>0.04694049</td><td>63.11067</td><td>0.0135359554</td><td> 0.9080113</td></tr>\n",
       "</tbody>\n",
       "</table>\n"
      ],
      "text/latex": [
       "A tibble: 6 × 9\n",
       "\\begin{tabular}{lllllllll}\n",
       " price & sqrft & bdrms & .fitted & .resid & .hat & .sigma & .cooksd & .std.resid\\\\\n",
       " <dbl> & <int> & <int> & <dbl> & <dbl> & <dbl> & <dbl> & <dbl> & <dbl>\\\\\n",
       "\\hline\n",
       "\t 300.000 & 2438 & 4 & 354.6052 & -54.605249 & 0.01781566 & 63.13341 & 0.0046181120 & -0.8739536\\\\\n",
       "\t 370.000 & 2076 & 3 & 292.9131 &  77.086850 & 0.02009644 & 62.84724 & 0.0104302034 &  1.2352052\\\\\n",
       "\t 191.000 & 1374 & 3 & 202.7509 & -11.750930 & 0.02560120 & 63.40569 & 0.0003122562 & -0.1888228\\\\\n",
       "\t 195.000 & 1448 & 3 & 212.2552 & -17.255210 & 0.02278638 & 63.39039 & 0.0005958220 & -0.2768700\\\\\n",
       "\t 373.000 & 2514 & 4 & 364.3664 &   8.633599 & 0.02004388 & 63.41185 & 0.0001304764 &  0.1383372\\\\\n",
       "\t 466.275 & 2754 & 5 & 410.3893 &  55.885711 & 0.04694049 & 63.11067 & 0.0135359554 &  0.9080113\\\\\n",
       "\\end{tabular}\n"
      ],
      "text/markdown": [
       "\n",
       "A tibble: 6 × 9\n",
       "\n",
       "| price &lt;dbl&gt; | sqrft &lt;int&gt; | bdrms &lt;int&gt; | .fitted &lt;dbl&gt; | .resid &lt;dbl&gt; | .hat &lt;dbl&gt; | .sigma &lt;dbl&gt; | .cooksd &lt;dbl&gt; | .std.resid &lt;dbl&gt; |\n",
       "|---|---|---|---|---|---|---|---|---|\n",
       "| 300.000 | 2438 | 4 | 354.6052 | -54.605249 | 0.01781566 | 63.13341 | 0.0046181120 | -0.8739536 |\n",
       "| 370.000 | 2076 | 3 | 292.9131 |  77.086850 | 0.02009644 | 62.84724 | 0.0104302034 |  1.2352052 |\n",
       "| 191.000 | 1374 | 3 | 202.7509 | -11.750930 | 0.02560120 | 63.40569 | 0.0003122562 | -0.1888228 |\n",
       "| 195.000 | 1448 | 3 | 212.2552 | -17.255210 | 0.02278638 | 63.39039 | 0.0005958220 | -0.2768700 |\n",
       "| 373.000 | 2514 | 4 | 364.3664 |   8.633599 | 0.02004388 | 63.41185 | 0.0001304764 |  0.1383372 |\n",
       "| 466.275 | 2754 | 5 | 410.3893 |  55.885711 | 0.04694049 | 63.11067 | 0.0135359554 |  0.9080113 |\n",
       "\n"
      ],
      "text/plain": [
       "  price   sqrft bdrms .fitted  .resid     .hat       .sigma   .cooksd     \n",
       "1 300.000 2438  4     354.6052 -54.605249 0.01781566 63.13341 0.0046181120\n",
       "2 370.000 2076  3     292.9131  77.086850 0.02009644 62.84724 0.0104302034\n",
       "3 191.000 1374  3     202.7509 -11.750930 0.02560120 63.40569 0.0003122562\n",
       "4 195.000 1448  3     212.2552 -17.255210 0.02278638 63.39039 0.0005958220\n",
       "5 373.000 2514  4     364.3664   8.633599 0.02004388 63.41185 0.0001304764\n",
       "6 466.275 2754  5     410.3893  55.885711 0.04694049 63.11067 0.0135359554\n",
       "  .std.resid\n",
       "1 -0.8739536\n",
       "2  1.2352052\n",
       "3 -0.1888228\n",
       "4 -0.2768700\n",
       "5  0.1383372\n",
       "6  0.9080113"
      ]
     },
     "metadata": {},
     "output_type": "display_data"
    }
   ],
   "source": [
    "# (v) .fitted value \n",
    "hprice_aug <- augment(model)\n",
    "head(hprice_aug)"
   ]
  },
  {
   "cell_type": "code",
   "execution_count": null,
   "id": "89bf771f",
   "metadata": {},
   "outputs": [],
   "source": []
  },
  {
   "cell_type": "markdown",
   "id": "80258fb2",
   "metadata": {},
   "source": [
    "## C3"
   ]
  },
  {
   "cell_type": "code",
   "execution_count": 37,
   "id": "667ba631",
   "metadata": {},
   "outputs": [
    {
     "name": "stdout",
     "output_type": "stream",
     "text": [
      "'data.frame':\t177 obs. of  15 variables:\n",
      " $ salary  : int  1161 600 379 651 497 1067 945 1261 503 1094 ...\n",
      " $ age     : int  49 43 51 55 44 64 59 63 47 64 ...\n",
      " $ college : int  1 1 1 1 1 1 1 1 1 1 ...\n",
      " $ grad    : int  1 1 1 0 1 1 0 1 1 1 ...\n",
      " $ comten  : int  9 10 9 22 8 7 35 32 4 39 ...\n",
      " $ ceoten  : int  2 10 3 22 6 7 10 8 4 5 ...\n",
      " $ sales   : num  6200 283 169 1100 351 19000 536 4800 610 2900 ...\n",
      " $ profits : int  966 48 40 -54 28 614 24 191 7 230 ...\n",
      " $ mktval  : num  23200 1100 1100 1000 387 3900 623 2100 454 3900 ...\n",
      " $ lsalary : num  7.06 6.4 5.94 6.48 6.21 ...\n",
      " $ lsales  : num  8.73 5.65 5.13 7 5.86 ...\n",
      " $ lmktval : num  10.05 7 7 6.91 5.96 ...\n",
      " $ comtensq: int  81 100 81 484 64 49 1225 1024 16 1521 ...\n",
      " $ ceotensq: int  4 100 9 484 36 49 100 64 16 25 ...\n",
      " $ profmarg: num  15.58 16.96 23.67 -4.91 7.98 ...\n",
      " - attr(*, \"time.stamp\")= chr \"25 Jun 2011 23:03\"\n"
     ]
    }
   ],
   "source": [
    "str(ceosal2)"
   ]
  },
  {
   "cell_type": "code",
   "execution_count": 39,
   "id": "f83e98db",
   "metadata": {},
   "outputs": [
    {
     "data": {
      "text/plain": [
       "\n",
       "Call:\n",
       "lm(formula = lsalary ~ lsales + lmktval, data = ceosal2)\n",
       "\n",
       "Residuals:\n",
       "     Min       1Q   Median       3Q      Max \n",
       "-2.28060 -0.31137 -0.01269  0.30645  1.91210 \n",
       "\n",
       "Coefficients:\n",
       "            Estimate Std. Error t value Pr(>|t|)    \n",
       "(Intercept)  4.62092    0.25441  18.163  < 2e-16 ***\n",
       "lsales       0.16213    0.03967   4.087 6.67e-05 ***\n",
       "lmktval      0.10671    0.05012   2.129   0.0347 *  \n",
       "---\n",
       "Signif. codes:  0 ‘***’ 0.001 ‘**’ 0.01 ‘*’ 0.05 ‘.’ 0.1 ‘ ’ 1\n",
       "\n",
       "Residual standard error: 0.5103 on 174 degrees of freedom\n",
       "Multiple R-squared:  0.2991,\tAdjusted R-squared:  0.2911 \n",
       "F-statistic: 37.13 on 2 and 174 DF,  p-value: 3.727e-14\n"
      ]
     },
     "metadata": {},
     "output_type": "display_data"
    }
   ],
   "source": [
    "model <- lm(lsalary ~ lsales + lmktval, ceosal2)\n",
    "summary(model)"
   ]
  },
  {
   "cell_type": "markdown",
   "id": "52754fc1",
   "metadata": {},
   "source": [
    "(i) $ ln(salary) = 4.621 + 0.162*ln(sales) + 0.107*ln(mktval) $"
   ]
  },
  {
   "cell_type": "code",
   "execution_count": 45,
   "id": "f002686c",
   "metadata": {},
   "outputs": [
    {
     "data": {
      "text/plain": [
       "\n",
       "Call:\n",
       "lm(formula = lsalary ~ lsales + lmktval + profits, data = ceosal2)\n",
       "\n",
       "Residuals:\n",
       "     Min       1Q   Median       3Q      Max \n",
       "-2.27002 -0.31026 -0.01027  0.31043  1.91489 \n",
       "\n",
       "Coefficients:\n",
       "             Estimate Std. Error t value Pr(>|t|)    \n",
       "(Intercept) 4.687e+00  3.797e-01  12.343  < 2e-16 ***\n",
       "lsales      1.614e-01  3.991e-02   4.043 7.92e-05 ***\n",
       "lmktval     9.753e-02  6.369e-02   1.531    0.128    \n",
       "profits     3.566e-05  1.520e-04   0.235    0.815    \n",
       "---\n",
       "Signif. codes:  0 ‘***’ 0.001 ‘**’ 0.01 ‘*’ 0.05 ‘.’ 0.1 ‘ ’ 1\n",
       "\n",
       "Residual standard error: 0.5117 on 173 degrees of freedom\n",
       "Multiple R-squared:  0.2993,\tAdjusted R-squared:  0.2872 \n",
       "F-statistic: 24.64 on 3 and 173 DF,  p-value: 2.53e-13\n"
      ]
     },
     "metadata": {},
     "output_type": "display_data"
    }
   ],
   "source": [
    "model <- lm(lsalary ~ lsales + lmktval + profits, ceosal2)\n",
    "summary(model)"
   ]
  },
  {
   "cell_type": "code",
   "execution_count": 44,
   "id": "145b502f",
   "metadata": {},
   "outputs": [
    {
     "data": {
      "text/html": [
       "0.776897592031208"
      ],
      "text/latex": [
       "0.776897592031208"
      ],
      "text/markdown": [
       "0.776897592031208"
      ],
      "text/plain": [
       "[1] 0.7768976"
      ]
     },
     "metadata": {},
     "output_type": "display_data"
    }
   ],
   "source": [
    "cor(ceosal2$lmktval, ceosal2$profits)"
   ]
  },
  {
   "cell_type": "markdown",
   "id": "c17b28e4",
   "metadata": {},
   "source": [
    "(ii) ln(x) cannot be less than (or equal to) 0. Profits can be negative."
   ]
  },
  {
   "cell_type": "code",
   "execution_count": 47,
   "id": "21fca49f",
   "metadata": {
    "scrolled": true
   },
   "outputs": [
    {
     "data": {
      "text/plain": [
       "\n",
       "Call:\n",
       "lm(formula = lsalary ~ lsales + lmktval + ceoten, data = ceosal2)\n",
       "\n",
       "Residuals:\n",
       "     Min       1Q   Median       3Q      Max \n",
       "-2.49693 -0.29472  0.00964  0.30417  1.85286 \n",
       "\n",
       "Coefficients:\n",
       "            Estimate Std. Error t value Pr(>|t|)    \n",
       "(Intercept) 4.503795   0.257234  17.509  < 2e-16 ***\n",
       "lsales      0.162854   0.039242   4.150 5.21e-05 ***\n",
       "lmktval     0.109243   0.049595   2.203   0.0289 *  \n",
       "ceoten      0.011705   0.005326   2.198   0.0293 *  \n",
       "---\n",
       "Signif. codes:  0 ‘***’ 0.001 ‘**’ 0.01 ‘*’ 0.05 ‘.’ 0.1 ‘ ’ 1\n",
       "\n",
       "Residual standard error: 0.5048 on 173 degrees of freedom\n",
       "Multiple R-squared:  0.3182,\tAdjusted R-squared:  0.3063 \n",
       "F-statistic: 26.91 on 3 and 173 DF,  p-value: 2.474e-14\n"
      ]
     },
     "metadata": {},
     "output_type": "display_data"
    }
   ],
   "source": [
    "model <- lm(lsalary ~ lsales + lmktval + ceoten, ceosal2)\n",
    "summary(model)"
   ]
  },
  {
   "cell_type": "markdown",
   "id": "ef6378c8",
   "metadata": {},
   "source": [
    "(iii) 1.2% increase in salary from an extra year of tenure\n",
    "\n",
    "\n",
    "(iv) 0.78, sizeable positive correlation. The OLS estimators will have an increased variance resulting from their correlation. Omitting either from the model while including the other will result in omitted variable bias"
   ]
  },
  {
   "cell_type": "code",
   "execution_count": null,
   "id": "c862be78",
   "metadata": {},
   "outputs": [],
   "source": []
  },
  {
   "cell_type": "markdown",
   "id": "1a9094a5",
   "metadata": {},
   "source": [
    "## C4"
   ]
  },
  {
   "cell_type": "code",
   "execution_count": 50,
   "id": "d9de2842",
   "metadata": {},
   "outputs": [
    {
     "data": {
      "text/html": [
       "<table class=\"dataframe\">\n",
       "<caption>A data.frame: 1 × 9</caption>\n",
       "<thead>\n",
       "\t<tr><th scope=col>min(atndrte)</th><th scope=col>max(atndrte)</th><th scope=col>mean(atndrte)</th><th scope=col>min(priGPA)</th><th scope=col>max(priGPA)</th><th scope=col>mean(priGPA)</th><th scope=col>min(ACT)</th><th scope=col>max(ACT)</th><th scope=col>mean(ACT)</th></tr>\n",
       "\t<tr><th scope=col>&lt;dbl&gt;</th><th scope=col>&lt;dbl&gt;</th><th scope=col>&lt;dbl&gt;</th><th scope=col>&lt;dbl&gt;</th><th scope=col>&lt;dbl&gt;</th><th scope=col>&lt;dbl&gt;</th><th scope=col>&lt;int&gt;</th><th scope=col>&lt;int&gt;</th><th scope=col>&lt;dbl&gt;</th></tr>\n",
       "</thead>\n",
       "<tbody>\n",
       "\t<tr><td>6.25</td><td>100</td><td>81.70956</td><td>0.857</td><td>3.93</td><td>2.586775</td><td>13</td><td>32</td><td>22.51029</td></tr>\n",
       "</tbody>\n",
       "</table>\n"
      ],
      "text/latex": [
       "A data.frame: 1 × 9\n",
       "\\begin{tabular}{lllllllll}\n",
       " min(atndrte) & max(atndrte) & mean(atndrte) & min(priGPA) & max(priGPA) & mean(priGPA) & min(ACT) & max(ACT) & mean(ACT)\\\\\n",
       " <dbl> & <dbl> & <dbl> & <dbl> & <dbl> & <dbl> & <int> & <int> & <dbl>\\\\\n",
       "\\hline\n",
       "\t 6.25 & 100 & 81.70956 & 0.857 & 3.93 & 2.586775 & 13 & 32 & 22.51029\\\\\n",
       "\\end{tabular}\n"
      ],
      "text/markdown": [
       "\n",
       "A data.frame: 1 × 9\n",
       "\n",
       "| min(atndrte) &lt;dbl&gt; | max(atndrte) &lt;dbl&gt; | mean(atndrte) &lt;dbl&gt; | min(priGPA) &lt;dbl&gt; | max(priGPA) &lt;dbl&gt; | mean(priGPA) &lt;dbl&gt; | min(ACT) &lt;int&gt; | max(ACT) &lt;int&gt; | mean(ACT) &lt;dbl&gt; |\n",
       "|---|---|---|---|---|---|---|---|---|\n",
       "| 6.25 | 100 | 81.70956 | 0.857 | 3.93 | 2.586775 | 13 | 32 | 22.51029 |\n",
       "\n"
      ],
      "text/plain": [
       "  min(atndrte) max(atndrte) mean(atndrte) min(priGPA) max(priGPA) mean(priGPA)\n",
       "1 6.25         100          81.70956      0.857       3.93        2.586775    \n",
       "  min(ACT) max(ACT) mean(ACT)\n",
       "1 13       32       22.51029 "
      ]
     },
     "metadata": {},
     "output_type": "display_data"
    }
   ],
   "source": [
    "# (i)\n",
    "attend %>% summarize(\n",
    "min(atndrte), max(atndrte), mean(atndrte), min(priGPA), max(priGPA), mean(priGPA), min(ACT), max(ACT), mean(ACT))"
   ]
  },
  {
   "cell_type": "code",
   "execution_count": 52,
   "id": "556e2b21",
   "metadata": {},
   "outputs": [
    {
     "data": {
      "text/plain": [
       "\n",
       "Call:\n",
       "lm(formula = atndrte ~ priGPA + ACT, data = attend)\n",
       "\n",
       "Residuals:\n",
       "    Min      1Q  Median      3Q     Max \n",
       "-65.373  -6.765   2.125   9.635  29.615 \n",
       "\n",
       "Coefficients:\n",
       "            Estimate Std. Error t value Pr(>|t|)    \n",
       "(Intercept)   75.700      3.884   19.49   <2e-16 ***\n",
       "priGPA        17.261      1.083   15.94   <2e-16 ***\n",
       "ACT           -1.717      0.169  -10.16   <2e-16 ***\n",
       "---\n",
       "Signif. codes:  0 ‘***’ 0.001 ‘**’ 0.01 ‘*’ 0.05 ‘.’ 0.1 ‘ ’ 1\n",
       "\n",
       "Residual standard error: 14.38 on 677 degrees of freedom\n",
       "Multiple R-squared:  0.2906,\tAdjusted R-squared:  0.2885 \n",
       "F-statistic: 138.7 on 2 and 677 DF,  p-value: < 2.2e-16\n"
      ]
     },
     "metadata": {},
     "output_type": "display_data"
    }
   ],
   "source": [
    "model <- lm(atndrte ~ priGPA + ACT, attend)\n",
    "summary(model)"
   ]
  },
  {
   "cell_type": "markdown",
   "id": "e0f18c0f",
   "metadata": {},
   "source": [
    "(ii) $ atndrte = 75.7 + 17.261*priGPA + -1.717*ACT $\n",
    "\n",
    "The intercept is the point at which GPA and ACT are both 0. There is sample in the dataset close to this scenario.\n",
    "\n",
    "(iii) The slopes are difficult to interpret because of the restricted range of values they can take.\n",
    "Also, the slope coefficient of ACT is less than zero indicating a negative correlation with attendence. This is unexpected because one would think a better student would both perform well on the test and be a more frequent attender of class.\n",
    "\n",
    "(iv) 102.65%, there are no students with these values."
   ]
  },
  {
   "cell_type": "code",
   "execution_count": 60,
   "id": "99cff456",
   "metadata": {},
   "outputs": [
    {
     "data": {
      "text/html": [
       "<table class=\"dataframe\">\n",
       "<caption>A data.frame: 0 × 11</caption>\n",
       "<thead>\n",
       "\t<tr><th scope=col>attend</th><th scope=col>termGPA</th><th scope=col>priGPA</th><th scope=col>ACT</th><th scope=col>final</th><th scope=col>atndrte</th><th scope=col>hwrte</th><th scope=col>frosh</th><th scope=col>soph</th><th scope=col>missed</th><th scope=col>stndfnl</th></tr>\n",
       "\t<tr><th scope=col>&lt;int&gt;</th><th scope=col>&lt;dbl&gt;</th><th scope=col>&lt;dbl&gt;</th><th scope=col>&lt;int&gt;</th><th scope=col>&lt;int&gt;</th><th scope=col>&lt;dbl&gt;</th><th scope=col>&lt;dbl&gt;</th><th scope=col>&lt;int&gt;</th><th scope=col>&lt;int&gt;</th><th scope=col>&lt;int&gt;</th><th scope=col>&lt;dbl&gt;</th></tr>\n",
       "</thead>\n",
       "<tbody>\n",
       "</tbody>\n",
       "</table>\n"
      ],
      "text/latex": [
       "A data.frame: 0 × 11\n",
       "\\begin{tabular}{lllllllllll}\n",
       " attend & termGPA & priGPA & ACT & final & atndrte & hwrte & frosh & soph & missed & stndfnl\\\\\n",
       " <int> & <dbl> & <dbl> & <int> & <int> & <dbl> & <dbl> & <int> & <int> & <int> & <dbl>\\\\\n",
       "\\hline\n",
       "\\end{tabular}\n"
      ],
      "text/markdown": [
       "\n",
       "A data.frame: 0 × 11\n",
       "\n",
       "| attend &lt;int&gt; | termGPA &lt;dbl&gt; | priGPA &lt;dbl&gt; | ACT &lt;int&gt; | final &lt;int&gt; | atndrte &lt;dbl&gt; | hwrte &lt;dbl&gt; | frosh &lt;int&gt; | soph &lt;int&gt; | missed &lt;int&gt; | stndfnl &lt;dbl&gt; |\n",
       "|---|---|---|---|---|---|---|---|---|---|---|\n",
       "\n"
      ],
      "text/plain": [
       "     attend termGPA priGPA ACT final atndrte hwrte frosh soph missed stndfnl"
      ]
     },
     "metadata": {},
     "output_type": "display_data"
    }
   ],
   "source": [
    "attend %>% filter(round(priGPA, 2) == 3.65, ACT == 21)"
   ]
  },
  {
   "cell_type": "markdown",
   "id": "edb87e08",
   "metadata": {},
   "source": [
    "(v) 93.15% - 67.31% = 25.84%"
   ]
  },
  {
   "cell_type": "code",
   "execution_count": 53,
   "id": "7b11a4fe",
   "metadata": {},
   "outputs": [
    {
     "data": {
      "text/html": [
       "0.353769360684936"
      ],
      "text/latex": [
       "0.353769360684936"
      ],
      "text/markdown": [
       "0.353769360684936"
      ],
      "text/plain": [
       "[1] 0.3537694"
      ]
     },
     "metadata": {},
     "output_type": "display_data"
    }
   ],
   "source": [
    "cor(attend$priGPA, attend$ACT)"
   ]
  },
  {
   "cell_type": "code",
   "execution_count": null,
   "id": "69799055",
   "metadata": {},
   "outputs": [],
   "source": []
  },
  {
   "cell_type": "markdown",
   "id": "1b23fbd4",
   "metadata": {},
   "source": [
    "## C5"
   ]
  },
  {
   "cell_type": "code",
   "execution_count": 11,
   "id": "5f9102c2",
   "metadata": {},
   "outputs": [
    {
     "name": "stdout",
     "output_type": "stream",
     "text": [
      "'data.frame':\t526 obs. of  24 variables:\n",
      " $ wage    : num  3.1 3.24 3 6 5.3 ...\n",
      " $ educ    : int  11 12 11 8 12 16 18 12 12 17 ...\n",
      " $ exper   : int  2 22 2 44 7 9 15 5 26 22 ...\n",
      " $ tenure  : int  0 2 0 28 2 8 7 3 4 21 ...\n",
      " $ nonwhite: int  0 0 0 0 0 0 0 0 0 0 ...\n",
      " $ female  : int  1 1 0 0 0 0 0 1 1 0 ...\n",
      " $ married : int  0 1 0 1 1 1 0 0 0 1 ...\n",
      " $ numdep  : int  2 3 2 0 1 0 0 0 2 0 ...\n",
      " $ smsa    : int  1 1 0 1 0 1 1 1 1 1 ...\n",
      " $ northcen: int  0 0 0 0 0 0 0 0 0 0 ...\n",
      " $ south   : int  0 0 0 0 0 0 0 0 0 0 ...\n",
      " $ west    : int  1 1 1 1 1 1 1 1 1 1 ...\n",
      " $ construc: int  0 0 0 0 0 0 0 0 0 0 ...\n",
      " $ ndurman : int  0 0 0 0 0 0 0 0 0 0 ...\n",
      " $ trcommpu: int  0 0 0 0 0 0 0 0 0 0 ...\n",
      " $ trade   : int  0 0 1 0 0 0 1 0 1 0 ...\n",
      " $ services: int  0 1 0 0 0 0 0 0 0 0 ...\n",
      " $ profserv: int  0 0 0 0 0 1 0 0 0 0 ...\n",
      " $ profocc : int  0 0 0 0 0 1 1 1 1 1 ...\n",
      " $ clerocc : int  0 0 0 1 0 0 0 0 0 0 ...\n",
      " $ servocc : int  0 1 0 0 0 0 0 0 0 0 ...\n",
      " $ lwage   : num  1.13 1.18 1.1 1.79 1.67 ...\n",
      " $ expersq : int  4 484 4 1936 49 81 225 25 676 484 ...\n",
      " $ tenursq : int  0 4 0 784 4 64 49 9 16 441 ...\n",
      " - attr(*, \"time.stamp\")= chr \"25 Jun 2011 23:03\"\n"
     ]
    }
   ],
   "source": [
    "str(wage1)"
   ]
  },
  {
   "cell_type": "code",
   "execution_count": 17,
   "id": "95b00bcb",
   "metadata": {},
   "outputs": [],
   "source": [
    "r_1 <- augment(lm(educ ~ exper + tenure, wage1))[\".resid\"]"
   ]
  },
  {
   "cell_type": "code",
   "execution_count": 19,
   "id": "a9926fe8",
   "metadata": {},
   "outputs": [
    {
     "data": {
      "text/plain": [
       "\n",
       "Call:\n",
       "lm(formula = wage1$lwage ~ r_1$.resid)\n",
       "\n",
       "Residuals:\n",
       "     Min       1Q   Median       3Q      Max \n",
       "-2.12919 -0.32803 -0.07126  0.31626  1.51357 \n",
       "\n",
       "Coefficients:\n",
       "            Estimate Std. Error t value Pr(>|t|)    \n",
       "(Intercept)  1.62327    0.02066   78.56   <2e-16 ***\n",
       "r_1$.resid   0.09203    0.00788   11.68   <2e-16 ***\n",
       "---\n",
       "Signif. codes:  0 ‘***’ 0.001 ‘**’ 0.01 ‘*’ 0.05 ‘.’ 0.1 ‘ ’ 1\n",
       "\n",
       "Residual standard error: 0.4739 on 524 degrees of freedom\n",
       "Multiple R-squared:  0.2066,\tAdjusted R-squared:  0.205 \n",
       "F-statistic: 136.4 on 1 and 524 DF,  p-value: < 2.2e-16\n"
      ]
     },
     "metadata": {},
     "output_type": "display_data"
    }
   ],
   "source": [
    "model <- lm(wage1$lwage ~ r_1$.resid )\n",
    "summary(model)"
   ]
  },
  {
   "cell_type": "code",
   "execution_count": 28,
   "id": "4d4ad0ed",
   "metadata": {},
   "outputs": [
    {
     "data": {
      "text/html": [
       "<style>\n",
       ".dl-inline {width: auto; margin:0; padding: 0}\n",
       ".dl-inline>dt, .dl-inline>dd {float: none; width: auto; display: inline-block}\n",
       ".dl-inline>dt::after {content: \":\\0020\"; padding-right: .5ex}\n",
       ".dl-inline>dt:not(:first-of-type) {padding-left: .5ex}\n",
       "</style><dl class=dl-inline><dt>(Intercept)</dt><dd>0.284</dd><dt>educ</dt><dd>0.092</dd><dt>tenure</dt><dd>0.022</dd><dt>exper</dt><dd>0.004</dd></dl>\n"
      ],
      "text/latex": [
       "\\begin{description*}\n",
       "\\item[(Intercept)] 0.284\n",
       "\\item[educ] 0.092\n",
       "\\item[tenure] 0.022\n",
       "\\item[exper] 0.004\n",
       "\\end{description*}\n"
      ],
      "text/markdown": [
       "(Intercept)\n",
       ":   0.284educ\n",
       ":   0.092tenure\n",
       ":   0.022exper\n",
       ":   0.004\n",
       "\n"
      ],
      "text/plain": [
       "(Intercept)        educ      tenure       exper \n",
       "      0.284       0.092       0.022       0.004 "
      ]
     },
     "metadata": {},
     "output_type": "display_data"
    }
   ],
   "source": [
    "model <- lm(lwage ~ educ + tenure + exper, wage1)\n",
    "round(model$coefficients, 3)"
   ]
  },
  {
   "cell_type": "code",
   "execution_count": null,
   "id": "36562485",
   "metadata": {},
   "outputs": [],
   "source": []
  },
  {
   "cell_type": "markdown",
   "id": "7d4627a2",
   "metadata": {},
   "source": [
    "# C6"
   ]
  },
  {
   "cell_type": "code",
   "execution_count": 62,
   "id": "dc1aff85",
   "metadata": {},
   "outputs": [
    {
     "name": "stdout",
     "output_type": "stream",
     "text": [
      "'data.frame':\t935 obs. of  17 variables:\n",
      " $ wage   : int  769 808 825 650 562 1400 600 1081 1154 1000 ...\n",
      " $ hours  : int  40 50 40 40 40 40 40 40 45 40 ...\n",
      " $ IQ     : int  93 119 108 96 74 116 91 114 111 95 ...\n",
      " $ KWW    : int  35 41 46 32 27 43 24 50 37 44 ...\n",
      " $ educ   : int  12 18 14 12 11 16 10 18 15 12 ...\n",
      " $ exper  : int  11 11 11 13 14 14 13 8 13 16 ...\n",
      " $ tenure : int  2 16 9 7 5 2 0 14 1 16 ...\n",
      " $ age    : int  31 37 33 32 34 35 30 38 36 36 ...\n",
      " $ married: int  1 1 1 1 1 1 0 1 1 1 ...\n",
      " $ black  : int  0 0 0 0 0 1 0 0 0 0 ...\n",
      " $ south  : int  0 0 0 0 0 0 0 0 0 0 ...\n",
      " $ urban  : int  1 1 1 1 1 1 1 1 0 1 ...\n",
      " $ sibs   : int  1 1 1 4 10 1 1 2 2 1 ...\n",
      " $ brthord: int  2 NA 2 3 6 2 2 3 3 1 ...\n",
      " $ meduc  : int  8 14 14 12 6 8 8 8 14 12 ...\n",
      " $ feduc  : int  8 14 14 12 11 NA 8 NA 5 11 ...\n",
      " $ lwage  : num  6.65 6.69 6.72 6.48 6.33 ...\n",
      " - attr(*, \"time.stamp\")= chr \"25 Jun 2011 23:03\"\n"
     ]
    }
   ],
   "source": [
    "str(wage2)"
   ]
  },
  {
   "cell_type": "code",
   "execution_count": 65,
   "id": "1de0eba8",
   "metadata": {},
   "outputs": [
    {
     "name": "stdout",
     "output_type": "stream",
     "text": [
      "    educ \n",
      "3.533829 \n"
     ]
    }
   ],
   "source": [
    "delta <- lm(IQ ~ educ, wage2)$coefficients[2]\n",
    "print(delta)"
   ]
  },
  {
   "cell_type": "code",
   "execution_count": 66,
   "id": "a7fb5783",
   "metadata": {},
   "outputs": [
    {
     "name": "stdout",
     "output_type": "stream",
     "text": [
      "     educ \n",
      "0.0598392 \n"
     ]
    }
   ],
   "source": [
    "beta_tilda <- lm(lwage ~ educ, wage2)$coefficients[2]\n",
    "print(beta_tilda)"
   ]
  },
  {
   "cell_type": "code",
   "execution_count": 81,
   "id": "d47a1259",
   "metadata": {},
   "outputs": [
    {
     "data": {
      "text/html": [
       "<style>\n",
       ".dl-inline {width: auto; margin:0; padding: 0}\n",
       ".dl-inline>dt, .dl-inline>dd {float: none; width: auto; display: inline-block}\n",
       ".dl-inline>dt::after {content: \":\\0020\"; padding-right: .5ex}\n",
       ".dl-inline>dt:not(:first-of-type) {padding-left: .5ex}\n",
       "</style><dl class=dl-inline><dt>educ</dt><dd>0.0391198985790572</dd><dt>IQ</dt><dd>0.00586313142170868</dd></dl>\n"
      ],
      "text/latex": [
       "\\begin{description*}\n",
       "\\item[educ] 0.0391198985790572\n",
       "\\item[IQ] 0.00586313142170868\n",
       "\\end{description*}\n"
      ],
      "text/markdown": [
       "educ\n",
       ":   0.0391198985790572IQ\n",
       ":   0.00586313142170868\n",
       "\n"
      ],
      "text/plain": [
       "       educ          IQ \n",
       "0.039119899 0.005863131 "
      ]
     },
     "metadata": {},
     "output_type": "display_data"
    }
   ],
   "source": [
    "model <- lm(lwage ~ educ + IQ, wage2)\n",
    "\n",
    "beta1_hat <- model$coefficients[2]\n",
    "beta2_hat <- model$coefficients[3]\n",
    "model$coefficients[2:3]"
   ]
  },
  {
   "cell_type": "code",
   "execution_count": 85,
   "id": "fee0a549",
   "metadata": {},
   "outputs": [
    {
     "data": {
      "text/html": [
       "<strong>educ:</strong> TRUE"
      ],
      "text/latex": [
       "\\textbf{educ:} TRUE"
      ],
      "text/markdown": [
       "**educ:** TRUE"
      ],
      "text/plain": [
       "educ \n",
       "TRUE "
      ]
     },
     "metadata": {},
     "output_type": "display_data"
    }
   ],
   "source": [
    "beta_tilda - (beta1_hat + beta2_hat*delta) == 0"
   ]
  },
  {
   "cell_type": "code",
   "execution_count": null,
   "id": "b8903f4e",
   "metadata": {},
   "outputs": [],
   "source": []
  },
  {
   "cell_type": "markdown",
   "id": "96b55216",
   "metadata": {},
   "source": [
    "## C7"
   ]
  },
  {
   "cell_type": "code",
   "execution_count": 86,
   "id": "c6441a9c",
   "metadata": {},
   "outputs": [
    {
     "name": "stdout",
     "output_type": "stream",
     "text": [
      "'data.frame':\t408 obs. of  17 variables:\n",
      " $ lnchprg : num  1.4 2.3 2.7 3.4 3.4 ...\n",
      " $ enroll  : int  1862 11355 7685 1148 1572 2496 3358 11983 3499 5095 ...\n",
      " $ staff   : num  112.6 101.2 114 85.4 96.1 ...\n",
      " $ expend  : int  5765 6601 6834 3586 3847 5070 4474 5159 5012 6501 ...\n",
      " $ salary  : num  37498 48722 44541 31566 29781 ...\n",
      " $ benefits: int  7420 10370 7313 5989 5545 5895 6934 8085 7253 7386 ...\n",
      " $ droprate: num  2.9 1.3 3.5 3.6 0 ...\n",
      " $ gradrate: num  89.2 91.4 91.4 86.6 100 ...\n",
      " $ math10  : num  56.4 42.7 43.8 25.3 15.3 ...\n",
      " $ sci11   : num  67.9 65.3 54.3 60 65.8 ...\n",
      " $ totcomp : num  44918 59092 51854 37555 35326 ...\n",
      " $ ltotcomp: num  10.7 11 10.9 10.5 10.5 ...\n",
      " $ lexpend : num  8.66 8.79 8.83 8.18 8.26 ...\n",
      " $ lenroll : num  7.53 9.34 8.95 7.05 7.36 ...\n",
      " $ lstaff  : num  4.72 4.62 4.74 4.45 4.57 ...\n",
      " $ bensal  : num  0.198 0.213 0.164 0.19 0.186 ...\n",
      " $ lsalary : num  10.5 10.8 10.7 10.4 10.3 ...\n",
      " - attr(*, \"time.stamp\")= chr \"25 Jun 2011 23:03\"\n"
     ]
    }
   ],
   "source": [
    "str(meap93)"
   ]
  },
  {
   "cell_type": "code",
   "execution_count": 88,
   "id": "6f07634c",
   "metadata": {},
   "outputs": [
    {
     "data": {
      "text/plain": [
       "\n",
       "Call:\n",
       "lm(formula = math10 ~ lexpend + lnchprg, data = meap93)\n",
       "\n",
       "Residuals:\n",
       "    Min      1Q  Median      3Q     Max \n",
       "-24.294  -6.172  -1.293   4.855  43.203 \n",
       "\n",
       "Coefficients:\n",
       "             Estimate Std. Error t value Pr(>|t|)    \n",
       "(Intercept) -20.36075   25.07288  -0.812   0.4172    \n",
       "lexpend       6.22969    2.97263   2.096   0.0367 *  \n",
       "lnchprg      -0.30459    0.03536  -8.614   <2e-16 ***\n",
       "---\n",
       "Signif. codes:  0 ‘***’ 0.001 ‘**’ 0.01 ‘*’ 0.05 ‘.’ 0.1 ‘ ’ 1\n",
       "\n",
       "Residual standard error: 9.526 on 405 degrees of freedom\n",
       "Multiple R-squared:  0.1799,\tAdjusted R-squared:  0.1759 \n",
       "F-statistic: 44.43 on 2 and 405 DF,  p-value: < 2.2e-16\n"
      ]
     },
     "metadata": {},
     "output_type": "display_data"
    }
   ],
   "source": [
    "summary(lm(math10 ~ lexpend + lnchprg, meap93))"
   ]
  },
  {
   "cell_type": "markdown",
   "id": "ae10dae0",
   "metadata": {},
   "source": [
    "(i) Yes, lunch program participation in negatively correlated with income (see below)\n",
    "\n",
    "(ii) a negative test score is impossible. log(0) is undefined, but log(1) would approximate an expend value of 0."
   ]
  },
  {
   "cell_type": "code",
   "execution_count": 89,
   "id": "0871c297",
   "metadata": {},
   "outputs": [
    {
     "data": {
      "text/html": [
       "-0.394717765757835"
      ],
      "text/latex": [
       "-0.394717765757835"
      ],
      "text/markdown": [
       "-0.394717765757835"
      ],
      "text/plain": [
       "[1] -0.3947178"
      ]
     },
     "metadata": {},
     "output_type": "display_data"
    }
   ],
   "source": [
    "# teacher salary as a proxy for parent income\n",
    "cor(meap93$lnchprg, meap93$salary)"
   ]
  },
  {
   "cell_type": "code",
   "execution_count": 93,
   "id": "43181636",
   "metadata": {},
   "outputs": [
    {
     "data": {
      "text/plain": [
       "\n",
       "Call:\n",
       "lm(formula = math10 ~ log(expend), data = meap93)\n",
       "\n",
       "Residuals:\n",
       "    Min      1Q  Median      3Q     Max \n",
       "-22.343  -7.100  -0.914   6.148  39.093 \n",
       "\n",
       "Coefficients:\n",
       "            Estimate Std. Error t value Pr(>|t|)    \n",
       "(Intercept)  -69.341     26.530  -2.614 0.009290 ** \n",
       "log(expend)   11.164      3.169   3.523 0.000475 ***\n",
       "---\n",
       "Signif. codes:  0 ‘***’ 0.001 ‘**’ 0.01 ‘*’ 0.05 ‘.’ 0.1 ‘ ’ 1\n",
       "\n",
       "Residual standard error: 10.35 on 406 degrees of freedom\n",
       "Multiple R-squared:  0.02966,\tAdjusted R-squared:  0.02727 \n",
       "F-statistic: 12.41 on 1 and 406 DF,  p-value: 0.0004752\n"
      ]
     },
     "metadata": {},
     "output_type": "display_data"
    }
   ],
   "source": [
    "# (iii) Larger slope for log(expend) than previous model\n",
    "summary(lm(math10 ~ log(expend), meap93))"
   ]
  },
  {
   "cell_type": "code",
   "execution_count": 94,
   "id": "fe169da6",
   "metadata": {},
   "outputs": [
    {
     "data": {
      "text/html": [
       "-0.192704211549725"
      ],
      "text/latex": [
       "-0.192704211549725"
      ],
      "text/markdown": [
       "-0.192704211549725"
      ],
      "text/plain": [
       "[1] -0.1927042"
      ]
     },
     "metadata": {},
     "output_type": "display_data"
    }
   ],
   "source": [
    "# (iv) Sign makes sense. More expenditures in more affluent districts\n",
    "cor(meap93$lnchprg, meap93$lexpend)"
   ]
  },
  {
   "cell_type": "markdown",
   "id": "295eb4a5",
   "metadata": {},
   "source": [
    "(v) Omitted variable bias: a nega"
   ]
  },
  {
   "cell_type": "code",
   "execution_count": null,
   "id": "ae1efa7d",
   "metadata": {},
   "outputs": [],
   "source": []
  },
  {
   "cell_type": "markdown",
   "id": "75ddccb4",
   "metadata": {},
   "source": [
    "## C8"
   ]
  },
  {
   "cell_type": "code",
   "execution_count": 151,
   "id": "fba811b0",
   "metadata": {},
   "outputs": [],
   "source": [
    "?discrim"
   ]
  },
  {
   "cell_type": "code",
   "execution_count": 96,
   "id": "9011f1f0",
   "metadata": {},
   "outputs": [
    {
     "name": "stdout",
     "output_type": "stream",
     "text": [
      "'data.frame':\t410 obs. of  37 variables:\n",
      " $ psoda   : num  1.12 1.06 1.06 1.12 1.12 ...\n",
      " $ pfries  : num  1.06 0.91 0.91 1.02 NA ...\n",
      " $ pentree : num  1.02 0.95 0.98 1.06 0.49 ...\n",
      " $ wagest  : num  4.25 4.75 4.25 5 5 ...\n",
      " $ nmgrs   : num  3 3 3 4 3 4 3 3 4 3 ...\n",
      " $ nregs   : int  5 3 5 5 3 4 2 5 4 5 ...\n",
      " $ hrsopen : num  16 16.5 18 16 16 15 16 17 17 18 ...\n",
      " $ emp     : num  27.5 21.5 30 27.5 5 17.5 22.5 18.5 17 27 ...\n",
      " $ psoda2  : num  1.11 1.05 1.05 1.15 1.04 ...\n",
      " $ pfries2 : num  1.11 0.89 0.94 1.05 1.01 ...\n",
      " $ pentree2: num  1.05 0.95 0.98 1.05 0.58 ...\n",
      " $ wagest2 : num  5.05 5.05 5.05 5.05 5.05 ...\n",
      " $ nmgrs2  : num  5 4 4 4 3 3 3 3 4 6 ...\n",
      " $ nregs2  : int  5 3 5 5 3 4 2 5 4 5 ...\n",
      " $ hrsopen2: num  15 17.5 17.5 16 16 15 16 16 18 17 ...\n",
      " $ emp2    : num  27 24.5 25 NA 12 28 18.5 17 34 22 ...\n",
      " $ compown : int  1 0 0 0 0 0 0 1 0 1 ...\n",
      " $ chain   : int  3 1 1 3 1 1 1 3 1 3 ...\n",
      " $ density : num  4030 4030 11400 8345 720 ...\n",
      " $ crmrte  : num  0.0529 0.0529 0.036 0.0484 0.0616 ...\n",
      " $ state   : int  1 1 1 1 1 1 1 1 1 1 ...\n",
      " $ prpblck : num  0.1712 0.1712 0.0474 0.0528 0.0345 ...\n",
      " $ prppov  : num  0.0366 0.0366 0.0879 0.0591 0.0254 ...\n",
      " $ prpncar : num  0.0788 0.0788 0.2694 0.1367 0.0738 ...\n",
      " $ hseval  : num  148300 148300 169200 171600 249100 ...\n",
      " $ nstores : int  3 3 3 3 1 2 1 1 5 5 ...\n",
      " $ income  : num  44534 44534 41164 50366 72287 ...\n",
      " $ county  : int  18 18 12 10 10 18 10 24 10 10 ...\n",
      " $ lpsoda  : num  0.1133 0.0583 0.0583 0.1133 0.1133 ...\n",
      " $ lpfries : num  0.0583 -0.0943 -0.0943 0.0198 NA ...\n",
      " $ lhseval : num  11.9 11.9 12 12.1 12.4 ...\n",
      " $ lincome : num  10.7 10.7 10.6 10.8 11.2 ...\n",
      " $ ldensity: num  8.3 8.3 9.34 9.03 6.58 ...\n",
      " $ NJ      : int  1 1 1 1 1 1 1 1 1 1 ...\n",
      " $ BK      : int  0 1 1 0 1 1 1 0 1 0 ...\n",
      " $ KFC     : int  0 0 0 0 0 0 0 0 0 0 ...\n",
      " $ RR      : int  1 0 0 1 0 0 0 1 0 1 ...\n",
      " - attr(*, \"time.stamp\")= chr \"25 Jun 2011 23:03\"\n"
     ]
    }
   ],
   "source": [
    "str(discrim)"
   ]
  },
  {
   "cell_type": "code",
   "execution_count": 112,
   "id": "e18e8e59",
   "metadata": {},
   "outputs": [
    {
     "data": {
      "text/plain": [
       "     psoda           pfries         pentree          wagest     \n",
       " Min.   :0.730   Min.   :0.670   Min.   :0.490   Min.   :4.250  \n",
       " 1st Qu.:0.980   1st Qu.:0.850   1st Qu.:0.950   1st Qu.:4.250  \n",
       " Median :1.060   Median :0.930   Median :1.020   Median :4.500  \n",
       " Mean   :1.045   Mean   :0.922   Mean   :1.322   Mean   :4.616  \n",
       " 3rd Qu.:1.085   3rd Qu.:1.000   3rd Qu.:1.470   3rd Qu.:4.950  \n",
       " Max.   :1.490   Max.   :1.270   Max.   :3.950   Max.   :5.750  \n",
       " NA's   :8       NA's   :17      NA's   :12      NA's   :20     \n",
       "     nmgrs           nregs          hrsopen           emp       \n",
       " Min.   : 1.00   Min.   :1.000   Min.   : 7.00   Min.   : 3.00  \n",
       " 1st Qu.: 3.00   1st Qu.:3.000   1st Qu.:12.00   1st Qu.:11.38  \n",
       " Median : 3.00   Median :3.000   Median :15.50   Median :16.38  \n",
       " Mean   : 3.42   Mean   :3.608   Mean   :14.44   Mean   :17.62  \n",
       " 3rd Qu.: 4.00   3rd Qu.:4.000   3rd Qu.:16.00   3rd Qu.:21.00  \n",
       " Max.   :10.00   Max.   :8.000   Max.   :24.00   Max.   :80.00  \n",
       " NA's   :6       NA's   :22                      NA's   :6      \n",
       "     psoda2         pfries2          pentree2        wagest2     \n",
       " Min.   :0.410   Min.   :0.6900   Min.   :0.410   Min.   :4.250  \n",
       " 1st Qu.:1.000   1st Qu.:0.8400   1st Qu.:0.940   1st Qu.:5.050  \n",
       " Median :1.050   Median :0.9400   Median :1.040   Median :5.050  \n",
       " Mean   :1.045   Mean   :0.9412   Mean   :1.354   Mean   :4.996  \n",
       " 3rd Qu.:1.103   3rd Qu.:1.0100   3rd Qu.:2.053   3rd Qu.:5.050  \n",
       " Max.   :1.400   Max.   :1.3700   Max.   :2.850   Max.   :6.250  \n",
       " NA's   :22      NA's   :28       NA's   :24      NA's   :21     \n",
       "     nmgrs2          nregs2         hrsopen2          emp2      \n",
       " Min.   :0.000   Min.   :1.000   Min.   : 8.00   Min.   : 0.00  \n",
       " 1st Qu.:3.000   1st Qu.:3.000   1st Qu.:12.00   1st Qu.:11.50  \n",
       " Median :3.000   Median :3.000   Median :15.00   Median :17.00  \n",
       " Mean   :3.484   Mean   :3.608   Mean   :14.47   Mean   :17.57  \n",
       " 3rd Qu.:4.000   3rd Qu.:4.000   3rd Qu.:16.00   3rd Qu.:22.50  \n",
       " Max.   :8.000   Max.   :8.000   Max.   :24.00   Max.   :55.50  \n",
       " NA's   :6       NA's   :22      NA's   :11      NA's   :13     \n",
       "    compown           chain          density          crmrte       \n",
       " Min.   :0.0000   Min.   :1.000   Min.   :  163   Min.   :0.00518  \n",
       " 1st Qu.:0.0000   1st Qu.:1.000   1st Qu.: 1666   1st Qu.:0.02888  \n",
       " Median :0.0000   Median :2.000   Median : 2868   Median :0.04312  \n",
       " Mean   :0.3439   Mean   :2.117   Mean   : 4562   Mean   :0.05338  \n",
       " 3rd Qu.:1.0000   3rd Qu.:3.000   3rd Qu.: 5660   3rd Qu.:0.06219  \n",
       " Max.   :1.0000   Max.   :4.000   Max.   :41437   Max.   :0.35971  \n",
       "                                  NA's   :1       NA's   :1        \n",
       "     state          prpblck            prppov            prpncar       \n",
       " Min.   :1.000   Min.   :0.00000   Min.   :0.004298   Min.   :0.00000  \n",
       " 1st Qu.:1.000   1st Qu.:0.01165   1st Qu.:0.029710   1st Qu.:0.04353  \n",
       " Median :1.000   Median :0.04144   Median :0.044441   Median :0.07389  \n",
       " Mean   :1.193   Mean   :0.11349   Mean   :0.071297   Mean   :0.11487  \n",
       " 3rd Qu.:1.000   3rd Qu.:0.12106   3rd Qu.:0.082159   3rd Qu.:0.12348  \n",
       " Max.   :2.000   Max.   :0.98166   Max.   :0.418480   Max.   :0.62724  \n",
       "                 NA's   :1         NA's   :1          NA's   :1        \n",
       "     hseval          nstores          income           county     \n",
       " Min.   : 33900   Min.   :1.000   Min.   : 15919   Min.   : 1.00  \n",
       " 1st Qu.:107900   1st Qu.:2.000   1st Qu.: 37883   1st Qu.: 6.00  \n",
       " Median :142300   Median :3.000   Median : 46272   Median :14.00  \n",
       " Mean   :147399   Mean   :3.139   Mean   : 47054   Mean   :13.66  \n",
       " 3rd Qu.:176800   3rd Qu.:4.000   3rd Qu.: 54981   3rd Qu.:20.00  \n",
       " Max.   :473400   Max.   :8.000   Max.   :136529   Max.   :29.00  \n",
       " NA's   :1                        NA's   :1                       \n",
       "     lpsoda            lpfries            lhseval         lincome      \n",
       " Min.   :-0.31471   Min.   :-0.40048   Min.   :10.43   Min.   : 9.675  \n",
       " 1st Qu.:-0.02020   1st Qu.:-0.16252   1st Qu.:11.59   1st Qu.:10.542  \n",
       " Median : 0.05827   Median :-0.07257   Median :11.87   Median :10.742  \n",
       " Mean   : 0.04032   Mean   :-0.08781   Mean   :11.83   Mean   :10.720  \n",
       " 3rd Qu.: 0.08155   3rd Qu.: 0.00000   3rd Qu.:12.08   3rd Qu.:10.915  \n",
       " Max.   : 0.39878   Max.   : 0.23902   Max.   :13.07   Max.   :11.824  \n",
       " NA's   :8          NA's   :17         NA's   :1       NA's   :1       \n",
       "    ldensity            NJ               BK              KFC        \n",
       " Min.   : 5.094   Min.   :0.0000   Min.   :0.0000   Min.   :0.0000  \n",
       " 1st Qu.: 7.418   1st Qu.:1.0000   1st Qu.:0.0000   1st Qu.:0.0000  \n",
       " Median : 7.961   Median :1.0000   Median :0.0000   Median :0.0000  \n",
       " Mean   : 7.959   Mean   :0.8073   Mean   :0.4171   Mean   :0.1951  \n",
       " 3rd Qu.: 8.641   3rd Qu.:1.0000   3rd Qu.:1.0000   3rd Qu.:0.0000  \n",
       " Max.   :10.632   Max.   :1.0000   Max.   :1.0000   Max.   :1.0000  \n",
       " NA's   :1                                                          \n",
       "       RR        \n",
       " Min.   :0.0000  \n",
       " 1st Qu.:0.0000  \n",
       " Median :0.0000  \n",
       " Mean   :0.2415  \n",
       " 3rd Qu.:0.0000  \n",
       " Max.   :1.0000  \n",
       "                 "
      ]
     },
     "metadata": {},
     "output_type": "display_data"
    }
   ],
   "source": [
    "# This dataset has NAs\n",
    "summary(discrim)"
   ]
  },
  {
   "cell_type": "code",
   "execution_count": 116,
   "id": "a9a97a4d",
   "metadata": {},
   "outputs": [
    {
     "data": {
      "text/html": [
       "<table class=\"dataframe\">\n",
       "<caption>A data.frame: 1 × 4</caption>\n",
       "<thead>\n",
       "\t<tr><th scope=col>mean(prpblck)</th><th scope=col>sd(prpblck)</th><th scope=col>mean(income)</th><th scope=col>sd(income)</th></tr>\n",
       "\t<tr><th scope=col>&lt;dbl&gt;</th><th scope=col>&lt;dbl&gt;</th><th scope=col>&lt;dbl&gt;</th><th scope=col>&lt;dbl&gt;</th></tr>\n",
       "</thead>\n",
       "<tbody>\n",
       "\t<tr><td>0.1163656</td><td>0.1846939</td><td>46833.39</td><td>13686.86</td></tr>\n",
       "</tbody>\n",
       "</table>\n"
      ],
      "text/latex": [
       "A data.frame: 1 × 4\n",
       "\\begin{tabular}{llll}\n",
       " mean(prpblck) & sd(prpblck) & mean(income) & sd(income)\\\\\n",
       " <dbl> & <dbl> & <dbl> & <dbl>\\\\\n",
       "\\hline\n",
       "\t 0.1163656 & 0.1846939 & 46833.39 & 13686.86\\\\\n",
       "\\end{tabular}\n"
      ],
      "text/markdown": [
       "\n",
       "A data.frame: 1 × 4\n",
       "\n",
       "| mean(prpblck) &lt;dbl&gt; | sd(prpblck) &lt;dbl&gt; | mean(income) &lt;dbl&gt; | sd(income) &lt;dbl&gt; |\n",
       "|---|---|---|---|\n",
       "| 0.1163656 | 0.1846939 | 46833.39 | 13686.86 |\n",
       "\n"
      ],
      "text/plain": [
       "  mean(prpblck) sd(prpblck) mean(income) sd(income)\n",
       "1 0.1163656     0.1846939   46833.39     13686.86  "
      ]
     },
     "metadata": {},
     "output_type": "display_data"
    }
   ],
   "source": [
    "# (i) units: prpblck- per cent/100, income- dollars median\n",
    "discrim %>% drop_na() %>% summarize(mean(prpblck), sd(prpblck), mean(income), sd(income))"
   ]
  },
  {
   "cell_type": "code",
   "execution_count": 144,
   "id": "d200482f",
   "metadata": {},
   "outputs": [
    {
     "data": {
      "text/plain": [
       "\n",
       "Call:\n",
       "lm(formula = psoda ~ prpblck + income, data = discrim)\n",
       "\n",
       "Residuals:\n",
       "    Min      1Q  Median      3Q     Max \n",
       "-0.2940 -0.0524  0.0033  0.0423  0.4432 \n",
       "\n",
       "Coefficients:\n",
       "               Estimate  Std. Error t value Pr(>|t|)    \n",
       "(Intercept) 0.956319626 0.018992010   50.35  < 2e-16 ***\n",
       "prpblck     0.114988191 0.026000636    4.42 0.000013 ***\n",
       "income      0.000001603 0.000000362    4.43 0.000012 ***\n",
       "---\n",
       "Signif. codes:  0 ‘***’ 0.001 ‘**’ 0.01 ‘*’ 0.05 ‘.’ 0.1 ‘ ’ 1\n",
       "\n",
       "Residual standard error: 0.0861 on 398 degrees of freedom\n",
       "  (9 observations deleted due to missingness)\n",
       "Multiple R-squared:  0.0642,\tAdjusted R-squared:  0.0595 \n",
       "F-statistic: 13.7 on 2 and 398 DF,  p-value: 0.00000183\n"
      ]
     },
     "metadata": {},
     "output_type": "display_data"
    }
   ],
   "source": [
    "summary(lm(psoda ~ prpblck + income, discrim))"
   ]
  },
  {
   "cell_type": "markdown",
   "id": "eb27a2a7",
   "metadata": {},
   "source": [
    "(ii) prpblack predicts an 11.5 cent increase in psoda in a population that is 100% black vs 0% black. This is roughly a 10% increase over the median price. This does not seem to be a significant effect."
   ]
  },
  {
   "cell_type": "code",
   "execution_count": 129,
   "id": "b2a4a7bb",
   "metadata": {},
   "outputs": [
    {
     "data": {
      "image/png": "[encoded data removed]",
      "text/plain": [
       "plot without title"
      ]
     },
     "metadata": {
      "image/png": {
       "height": 420,
       "width": 420
      }
     },
     "output_type": "display_data"
    }
   ],
   "source": [
    "discrim %>% drop_na() %>%\n",
    "ggplot(aes(x=prpblck, y=psoda, color = log(income))) + geom_point() + scale_color_viridis_c(option = \"plasma\")"
   ]
  },
  {
   "cell_type": "code",
   "execution_count": 147,
   "id": "c17ac3e2",
   "metadata": {},
   "outputs": [
    {
     "data": {
      "text/plain": [
       "\n",
       "Call:\n",
       "lm(formula = psoda ~ prpblck, data = discrim)\n",
       "\n",
       "Residuals:\n",
       "    Min      1Q  Median      3Q     Max \n",
       "-0.3088 -0.0596  0.0114  0.0321  0.4484 \n",
       "\n",
       "Coefficients:\n",
       "            Estimate Std. Error t value Pr(>|t|)    \n",
       "(Intercept)  1.03740    0.00519  199.87   <2e-16 ***\n",
       "prpblck      0.06493    0.02396    2.71    0.007 ** \n",
       "---\n",
       "Signif. codes:  0 ‘***’ 0.001 ‘**’ 0.01 ‘*’ 0.05 ‘.’ 0.1 ‘ ’ 1\n",
       "\n",
       "Residual standard error: 0.0881 on 399 degrees of freedom\n",
       "  (9 observations deleted due to missingness)\n",
       "Multiple R-squared:  0.0181,\tAdjusted R-squared:  0.0156 \n",
       "F-statistic: 7.34 on 1 and 399 DF,  p-value: 0.00702\n"
      ]
     },
     "metadata": {},
     "output_type": "display_data"
    }
   ],
   "source": [
    "# (iii) Smaller effect\n",
    "summary(lm(psoda ~ prpblck, discrim))"
   ]
  },
  {
   "cell_type": "code",
   "execution_count": 148,
   "id": "86d114e8",
   "metadata": {},
   "outputs": [
    {
     "data": {
      "text/plain": [
       "\n",
       "Call:\n",
       "lm(formula = log(psoda) ~ prpblck + log(income), data = discrim)\n",
       "\n",
       "Residuals:\n",
       "    Min      1Q  Median      3Q     Max \n",
       "-0.3356 -0.0470  0.0066  0.0433  0.3541 \n",
       "\n",
       "Coefficients:\n",
       "            Estimate Std. Error t value  Pr(>|t|)    \n",
       "(Intercept)  -0.7938     0.1794   -4.42 0.0000125 ***\n",
       "prpblck       0.1216     0.0257    4.72 0.0000032 ***\n",
       "log(income)   0.0765     0.0166    4.61 0.0000054 ***\n",
       "---\n",
       "Signif. codes:  0 ‘***’ 0.001 ‘**’ 0.01 ‘*’ 0.05 ‘.’ 0.1 ‘ ’ 1\n",
       "\n",
       "Residual standard error: 0.0821 on 398 degrees of freedom\n",
       "  (9 observations deleted due to missingness)\n",
       "Multiple R-squared:  0.0681,\tAdjusted R-squared:  0.0634 \n",
       "F-statistic: 14.5 on 2 and 398 DF,  p-value: 0.000000804\n"
      ]
     },
     "metadata": {},
     "output_type": "display_data"
    }
   ],
   "source": [
    "# (iv) 0.2*.1216 equates to 2.43%\n",
    "summary(lm(log(psoda) ~ prpblck + log(income), discrim))"
   ]
  },
  {
   "cell_type": "code",
   "execution_count": 150,
   "id": "43198c8a",
   "metadata": {},
   "outputs": [
    {
     "data": {
      "text/plain": [
       "\n",
       "Call:\n",
       "lm(formula = log(psoda) ~ prpblck + log(income) + prppov, data = discrim)\n",
       "\n",
       "Residuals:\n",
       "    Min      1Q  Median      3Q     Max \n",
       "-0.3222 -0.0465  0.0065  0.0427  0.3562 \n",
       "\n",
       "Coefficients:\n",
       "            Estimate Std. Error t value   Pr(>|t|)    \n",
       "(Intercept)  -1.4633     0.2937   -4.98 0.00000094 ***\n",
       "prpblck       0.0728     0.0307    2.37     0.0181 *  \n",
       "log(income)   0.1370     0.0268    5.12 0.00000048 ***\n",
       "prppov        0.3804     0.1328    2.86     0.0044 ** \n",
       "---\n",
       "Signif. codes:  0 ‘***’ 0.001 ‘**’ 0.01 ‘*’ 0.05 ‘.’ 0.1 ‘ ’ 1\n",
       "\n",
       "Residual standard error: 0.0814 on 397 degrees of freedom\n",
       "  (9 observations deleted due to missingness)\n",
       "Multiple R-squared:  0.087,\tAdjusted R-squared:  0.0801 \n",
       "F-statistic: 12.6 on 3 and 397 DF,  p-value: 0.0000000692\n"
      ]
     },
     "metadata": {},
     "output_type": "display_data"
    }
   ],
   "source": [
    "# (v) coefficient of prpblck decreases \n",
    "summary(lm(log(psoda) ~ prpblck + log(income) + prppov, discrim))"
   ]
  },
  {
   "cell_type": "code",
   "execution_count": 162,
   "id": "7c2b9eae",
   "metadata": {},
   "outputs": [
    {
     "data": {
      "text/html": [
       "-0.846817806182845"
      ],
      "text/latex": [
       "-0.846817806182845"
      ],
      "text/markdown": [
       "-0.846817806182845"
      ],
      "text/plain": [
       "[1] -0.8468"
      ]
     },
     "metadata": {},
     "output_type": "display_data"
    }
   ],
   "source": [
    "# (vi) Yes.\n",
    "temp <- discrim %>% drop_na()\n",
    "cor(temp$prppov, temp$lincome)"
   ]
  },
  {
   "cell_type": "code",
   "execution_count": null,
   "id": "2b25902a",
   "metadata": {},
   "outputs": [],
   "source": [
    "# (vii)"
   ]
  },
  {
   "cell_type": "code",
   "execution_count": null,
   "id": "12fba1f8",
   "metadata": {},
   "outputs": [],
   "source": []
  },
  {
   "cell_type": "markdown",
   "id": "f0ee1b87",
   "metadata": {},
   "source": [
    "## C9"
   ]
  },
  {
   "cell_type": "code",
   "execution_count": 163,
   "id": "caba75d4",
   "metadata": {},
   "outputs": [
    {
     "name": "stdout",
     "output_type": "stream",
     "text": [
      "'data.frame':\t4268 obs. of  8 variables:\n",
      " $ respond  : int  0 0 0 0 1 0 0 0 0 1 ...\n",
      " $ gift     : int  0 0 0 0 10 0 0 0 0 5 ...\n",
      " $ resplast : int  0 0 1 0 0 0 0 0 1 0 ...\n",
      " $ weekslast: num  143 65.4 13.1 120.1 103.9 ...\n",
      " $ propresp : num  0.3 0.3 0.3 0.3 0.2 ...\n",
      " $ mailsyear: num  2.5 2.5 2.5 2.5 2.5 2.5 2.5 2.5 2.5 2.5 ...\n",
      " $ giftlast : int  10 10 10 10 10 10 10 5 10 5 ...\n",
      " $ avggift  : num  10 10 10 10 10 10 10 6 10 5 ...\n",
      " - attr(*, \"time.stamp\")= chr \"25 Jun 2011 23:03\"\n"
     ]
    }
   ],
   "source": [
    "str(charity)"
   ]
  },
  {
   "cell_type": "code",
   "execution_count": 164,
   "id": "71af332d",
   "metadata": {},
   "outputs": [
    {
     "data": {
      "text/plain": [
       "\n",
       "Call:\n",
       "lm(formula = gift ~ mailsyear + giftlast + propresp, data = charity)\n",
       "\n",
       "Residuals:\n",
       "   Min     1Q Median     3Q    Max \n",
       "-52.89  -7.05  -3.65   1.40 241.21 \n",
       "\n",
       "Coefficients:\n",
       "            Estimate Std. Error t value Pr(>|t|)    \n",
       "(Intercept) -4.55152    0.80303   -5.67  1.5e-08 ***\n",
       "mailsyear    2.16626    0.33193    6.53  7.5e-11 ***\n",
       "giftlast     0.00593    0.00143    4.14  3.6e-05 ***\n",
       "propresp    15.35861    0.87454   17.56  < 2e-16 ***\n",
       "---\n",
       "Signif. codes:  0 ‘***’ 0.001 ‘**’ 0.01 ‘*’ 0.05 ‘.’ 0.1 ‘ ’ 1\n",
       "\n",
       "Residual standard error: 14.4 on 4264 degrees of freedom\n",
       "Multiple R-squared:  0.0834,\tAdjusted R-squared:  0.0827 \n",
       "F-statistic:  129 on 3 and 4264 DF,  p-value: <2e-16\n"
      ]
     },
     "metadata": {},
     "output_type": "display_data"
    }
   ],
   "source": [
    "# (i) 7% more of the variance is explained by the multiple regression. mailsyear loses 20% of its weight in simple.\n",
    "summary(lm(gift ~ mailsyear + giftlast + propresp, charity))"
   ]
  },
  {
   "cell_type": "code",
   "execution_count": 165,
   "id": "4458d89b",
   "metadata": {},
   "outputs": [
    {
     "data": {
      "text/plain": [
       "\n",
       "Call:\n",
       "lm(formula = gift ~ mailsyear, data = charity)\n",
       "\n",
       "Residuals:\n",
       "   Min     1Q Median     3Q    Max \n",
       "-11.29  -7.98  -5.98   2.69 246.00 \n",
       "\n",
       "Coefficients:\n",
       "            Estimate Std. Error t value Pr(>|t|)    \n",
       "(Intercept)    2.014      0.739    2.72   0.0065 ** \n",
       "mailsyear      2.650      0.343    7.72  1.4e-14 ***\n",
       "---\n",
       "Signif. codes:  0 ‘***’ 0.001 ‘**’ 0.01 ‘*’ 0.05 ‘.’ 0.1 ‘ ’ 1\n",
       "\n",
       "Residual standard error: 15 on 4266 degrees of freedom\n",
       "Multiple R-squared:  0.0138,\tAdjusted R-squared:  0.0136 \n",
       "F-statistic: 59.6 on 1 and 4266 DF,  p-value: 1.4e-14\n"
      ]
     },
     "metadata": {},
     "output_type": "display_data"
    }
   ],
   "source": [
    "summary(lm(gift ~ mailsyear, charity))"
   ]
  },
  {
   "cell_type": "markdown",
   "id": "214c6ee8",
   "metadata": {},
   "source": [
    "(ii) mailsyear multiple regression coefficient is smaller\n",
    "\n",
    "(iii) a 10% increase in response rate will increase gift by 1.5 units"
   ]
  },
  {
   "cell_type": "code",
   "execution_count": 167,
   "id": "483d1ddb",
   "metadata": {},
   "outputs": [
    {
     "data": {
      "text/plain": [
       "\n",
       "Call:\n",
       "lm(formula = gift ~ mailsyear + giftlast + propresp + avggift, \n",
       "    data = charity)\n",
       "\n",
       "Residuals:\n",
       "    Min      1Q  Median      3Q     Max \n",
       "-197.02   -5.88   -2.07    3.03  221.26 \n",
       "\n",
       "Coefficients:\n",
       "            Estimate Std. Error t value Pr(>|t|)    \n",
       "(Intercept)  -7.3278     0.7582   -9.66  < 2e-16 ***\n",
       "mailsyear     1.2012     0.3124    3.84  0.00012 ***\n",
       "giftlast     -0.2609     0.0108  -24.25  < 2e-16 ***\n",
       "propresp     16.2046     0.8175   19.82  < 2e-16 ***\n",
       "avggift       0.5269     0.0211   25.00  < 2e-16 ***\n",
       "---\n",
       "Signif. codes:  0 ‘***’ 0.001 ‘**’ 0.01 ‘*’ 0.05 ‘.’ 0.1 ‘ ’ 1\n",
       "\n",
       "Residual standard error: 13.5 on 4263 degrees of freedom\n",
       "Multiple R-squared:  0.201,\tAdjusted R-squared:   0.2 \n",
       "F-statistic:  267 on 4 and 4263 DF,  p-value: <2e-16\n"
      ]
     },
     "metadata": {},
     "output_type": "display_data"
    }
   ],
   "source": [
    "# (iv) mailsyear is reduced by about 40%\n",
    "summary(lm(gift ~ mailsyear + giftlast + propresp + avggift, charity))"
   ]
  },
  {
   "cell_type": "code",
   "execution_count": 169,
   "id": "6f085460",
   "metadata": {},
   "outputs": [
    {
     "data": {
      "text/html": [
       "0.992113087513737"
      ],
      "text/latex": [
       "0.992113087513737"
      ],
      "text/markdown": [
       "0.992113087513737"
      ],
      "text/plain": [
       "[1] 0.9921"
      ]
     },
     "metadata": {},
     "output_type": "display_data"
    }
   ],
   "source": [
    "# (v) the variables are almost perfectly correlated\n",
    "cor(charity$giftlast, charity$avggift)"
   ]
  },
  {
   "cell_type": "code",
   "execution_count": null,
   "id": "297dabec",
   "metadata": {},
   "outputs": [],
   "source": []
  },
  {
   "cell_type": "markdown",
   "id": "f4360324",
   "metadata": {},
   "source": [
    "## C10"
   ]
  },
  {
   "cell_type": "code",
   "execution_count": 170,
   "id": "06de584a",
   "metadata": {},
   "outputs": [
    {
     "name": "stdout",
     "output_type": "stream",
     "text": [
      "'data.frame':\t1230 obs. of  23 variables:\n",
      " $ wage    : num  12.02 8.91 15.51 13.33 11.07 ...\n",
      " $ abil    : num  5.03 2.04 2.48 3.61 2.64 ...\n",
      " $ educ    : int  15 13 15 15 13 18 13 12 13 12 ...\n",
      " $ ne      : int  0 1 1 1 1 1 1 0 1 1 ...\n",
      " $ nc      : int  0 0 0 0 0 0 0 0 0 0 ...\n",
      " $ west    : int  1 0 0 0 0 0 0 0 0 0 ...\n",
      " $ south   : int  0 0 0 0 0 0 0 1 0 0 ...\n",
      " $ exper   : int  9 8 11 6 15 8 13 14 9 9 ...\n",
      " $ motheduc: int  12 12 12 12 12 12 13 12 10 14 ...\n",
      " $ fatheduc: int  12 10 16 12 15 12 12 12 12 12 ...\n",
      " $ brkhme14: int  0 1 0 0 1 0 0 1 1 0 ...\n",
      " $ sibs    : int  1 4 2 1 2 2 5 4 3 1 ...\n",
      " $ urban   : int  1 1 1 1 1 1 1 0 1 1 ...\n",
      " $ ne18    : int  1 1 1 1 1 1 1 1 1 1 ...\n",
      " $ nc18    : int  0 0 0 0 0 0 0 0 0 0 ...\n",
      " $ south18 : int  0 0 0 0 0 0 0 0 0 0 ...\n",
      " $ west18  : int  0 0 0 0 0 0 0 0 0 0 ...\n",
      " $ urban18 : int  1 1 1 1 1 1 1 1 1 1 ...\n",
      " $ tuit17  : num  7.58 8.6 7.31 9.5 7.31 ...\n",
      " $ tuit18  : num  7.26 9.5 7.31 10.16 7.31 ...\n",
      " $ lwage   : num  2.49 2.19 2.74 2.59 2.4 ...\n",
      " $ expersq : int  81 64 121 36 225 64 169 196 81 81 ...\n",
      " $ ctuit   : num  -0.323 0.904 0 0.663 0 ...\n",
      " - attr(*, \"time.stamp\")= chr \"25 Jun 2011 23:03\"\n"
     ]
    }
   ],
   "source": [
    "str(htv)"
   ]
  },
  {
   "cell_type": "code",
   "execution_count": 171,
   "id": "01447323",
   "metadata": {},
   "outputs": [
    {
     "data": {
      "text/html": [
       "14"
      ],
      "text/latex": [
       "14"
      ],
      "text/markdown": [
       "14"
      ],
      "text/plain": [
       "[1] 14"
      ]
     },
     "metadata": {},
     "output_type": "display_data"
    }
   ],
   "source": [
    "# (i)\n",
    "# range of educ\n",
    "max(htv$educ) - min(htv$educ)"
   ]
  },
  {
   "cell_type": "code",
   "execution_count": 174,
   "id": "3d7cb855",
   "metadata": {},
   "outputs": [
    {
     "data": {
      "text/html": [
       "<table class=\"dataframe\">\n",
       "<caption>A data.frame: 2 × 2</caption>\n",
       "<thead>\n",
       "\t<tr><th scope=col>educ == 12</th><th scope=col>n</th></tr>\n",
       "\t<tr><th scope=col>&lt;lgl&gt;</th><th scope=col>&lt;int&gt;</th></tr>\n",
       "</thead>\n",
       "<tbody>\n",
       "\t<tr><td>FALSE</td><td>718</td></tr>\n",
       "\t<tr><td> TRUE</td><td>512</td></tr>\n",
       "</tbody>\n",
       "</table>\n"
      ],
      "text/latex": [
       "A data.frame: 2 × 2\n",
       "\\begin{tabular}{ll}\n",
       " educ == 12 & n\\\\\n",
       " <lgl> & <int>\\\\\n",
       "\\hline\n",
       "\t FALSE & 718\\\\\n",
       "\t  TRUE & 512\\\\\n",
       "\\end{tabular}\n"
      ],
      "text/markdown": [
       "\n",
       "A data.frame: 2 × 2\n",
       "\n",
       "| educ == 12 &lt;lgl&gt; | n &lt;int&gt; |\n",
       "|---|---|\n",
       "| FALSE | 718 |\n",
       "|  TRUE | 512 |\n",
       "\n"
      ],
      "text/plain": [
       "  educ == 12 n  \n",
       "1 FALSE      718\n",
       "2  TRUE      512"
      ]
     },
     "metadata": {},
     "output_type": "display_data"
    }
   ],
   "source": [
    "count(htv, educ==12)"
   ]
  },
  {
   "cell_type": "code",
   "execution_count": 177,
   "id": "3824198c",
   "metadata": {},
   "outputs": [
    {
     "data": {
      "text/html": [
       "0.72479674796748"
      ],
      "text/latex": [
       "0.72479674796748"
      ],
      "text/markdown": [
       "0.72479674796748"
      ],
      "text/plain": [
       "[1] 0.7248"
      ]
     },
     "metadata": {},
     "output_type": "display_data"
    }
   ],
   "source": [
    "mean(htv$educ)-mean(c(htv$motheduc, htv$fatheduc))"
   ]
  },
  {
   "cell_type": "code",
   "execution_count": 180,
   "id": "c193f633",
   "metadata": {},
   "outputs": [
    {
     "data": {
      "text/plain": [
       "\n",
       "Call:\n",
       "lm(formula = educ ~ motheduc + fatheduc, data = htv)\n",
       "\n",
       "Residuals:\n",
       "   Min     1Q Median     3Q    Max \n",
       "-6.290 -0.940 -0.404  1.124  8.167 \n",
       "\n",
       "Coefficients:\n",
       "            Estimate Std. Error t value Pr(>|t|)    \n",
       "(Intercept)   6.9644     0.3198   21.78   <2e-16 ***\n",
       "motheduc      0.3042     0.0319    9.53   <2e-16 ***\n",
       "fatheduc      0.1903     0.0223    8.54   <2e-16 ***\n",
       "---\n",
       "Signif. codes:  0 ‘***’ 0.001 ‘**’ 0.01 ‘*’ 0.05 ‘.’ 0.1 ‘ ’ 1\n",
       "\n",
       "Residual standard error: 2.04 on 1227 degrees of freedom\n",
       "Multiple R-squared:  0.249,\tAdjusted R-squared:  0.248 \n",
       "F-statistic:  204 on 2 and 1227 DF,  p-value: <2e-16\n"
      ]
     },
     "metadata": {},
     "output_type": "display_data"
    }
   ],
   "source": [
    "# (ii) 25% of the sample variation in educ is accounted for.\n",
    "# For 1 additional year in motheduc 0.3 years of additional educ are predicted\n",
    "summary(lm(educ ~ motheduc + fatheduc, htv))"
   ]
  },
  {
   "cell_type": "code",
   "execution_count": 181,
   "id": "b7433229",
   "metadata": {},
   "outputs": [
    {
     "data": {
      "text/plain": [
       "\n",
       "Call:\n",
       "lm(formula = educ ~ motheduc + fatheduc + abil, data = htv)\n",
       "\n",
       "Residuals:\n",
       "   Min     1Q Median     3Q    Max \n",
       "-5.407 -1.195 -0.199  1.076  7.012 \n",
       "\n",
       "Coefficients:\n",
       "            Estimate Std. Error t value Pr(>|t|)    \n",
       "(Intercept)   8.4487     0.2895   29.18  < 2e-16 ***\n",
       "motheduc      0.1891     0.0285    6.63  4.9e-11 ***\n",
       "fatheduc      0.1111     0.0199    5.59  2.9e-08 ***\n",
       "abil          0.5025     0.0257   19.54  < 2e-16 ***\n",
       "---\n",
       "Signif. codes:  0 ‘***’ 0.001 ‘**’ 0.01 ‘*’ 0.05 ‘.’ 0.1 ‘ ’ 1\n",
       "\n",
       "Residual standard error: 1.78 on 1226 degrees of freedom\n",
       "Multiple R-squared:  0.428,\tAdjusted R-squared:  0.426 \n",
       "F-statistic:  305 on 3 and 1226 DF,  p-value: <2e-16\n"
      ]
     },
     "metadata": {},
     "output_type": "display_data"
    }
   ],
   "source": [
    "# (iii) yes. 18% more of the sample variation in educ is explained.\n",
    "summary(lm(educ ~ motheduc + fatheduc + abil, htv))"
   ]
  },
  {
   "cell_type": "code",
   "execution_count": 186,
   "id": "694a5ddb",
   "metadata": {
    "scrolled": false
   },
   "outputs": [
    {
     "data": {
      "text/plain": [
       "\n",
       "Call:\n",
       "lm(formula = educ ~ motheduc + fatheduc + abil + I(abil^2), data = htv)\n",
       "\n",
       "Residuals:\n",
       "   Min     1Q Median     3Q    Max \n",
       "-5.251 -1.127 -0.135  1.022  7.048 \n",
       "\n",
       "Coefficients:\n",
       "            Estimate Std. Error t value      Pr(>|t|)    \n",
       "(Intercept)   8.2402     0.2874   28.67       < 2e-16 ***\n",
       "motheduc      0.1901     0.0281    6.77 0.00000000002 ***\n",
       "fatheduc      0.1089     0.0196    5.56 0.00000003351 ***\n",
       "abil          0.4015     0.0303   13.26       < 2e-16 ***\n",
       "I(abil^2)     0.0506     0.0083    6.09 0.00000000148 ***\n",
       "---\n",
       "Signif. codes:  0 ‘***’ 0.001 ‘**’ 0.01 ‘*’ 0.05 ‘.’ 0.1 ‘ ’ 1\n",
       "\n",
       "Residual standard error: 1.76 on 1225 degrees of freedom\n",
       "Multiple R-squared:  0.444,\tAdjusted R-squared:  0.443 \n",
       "F-statistic:  245 on 4 and 1225 DF,  p-value: <2e-16\n"
      ]
     },
     "metadata": {},
     "output_type": "display_data"
    }
   ],
   "source": [
    "# (iv)\n",
    "model <- lm(educ ~ motheduc + fatheduc + abil +I(abil^2), htv)\n",
    "summary(model)"
   ]
  },
  {
   "cell_type": "code",
   "execution_count": null,
   "id": "5eea7f1c",
   "metadata": {},
   "outputs": [],
   "source": []
  },
  {
   "cell_type": "markdown",
   "id": "8f94b544",
   "metadata": {},
   "source": [
    "$ \\frac{d*educ}{d*abil} = 0.4015 + 2*0.0506*abil = 0 $\n",
    "\n",
    "$ abil \\thickapprox -4 $\n",
    "\n",
    "$ \\frac{d^2*educ}{d*abil} = 2*0.0506 > 0 $"
   ]
  },
  {
   "cell_type": "code",
   "execution_count": 184,
   "id": "7c91f4fd",
   "metadata": {},
   "outputs": [
    {
     "data": {
      "text/html": [
       "<table class=\"dataframe\">\n",
       "<caption>A data.frame: 2 × 2</caption>\n",
       "<thead>\n",
       "\t<tr><th scope=col>abil &lt; -4</th><th scope=col>n</th></tr>\n",
       "\t<tr><th scope=col>&lt;lgl&gt;</th><th scope=col>&lt;int&gt;</th></tr>\n",
       "</thead>\n",
       "<tbody>\n",
       "\t<tr><td>FALSE</td><td>1216</td></tr>\n",
       "\t<tr><td> TRUE</td><td>  14</td></tr>\n",
       "</tbody>\n",
       "</table>\n"
      ],
      "text/latex": [
       "A data.frame: 2 × 2\n",
       "\\begin{tabular}{ll}\n",
       " abil < -4 & n\\\\\n",
       " <lgl> & <int>\\\\\n",
       "\\hline\n",
       "\t FALSE & 1216\\\\\n",
       "\t  TRUE &   14\\\\\n",
       "\\end{tabular}\n"
      ],
      "text/markdown": [
       "\n",
       "A data.frame: 2 × 2\n",
       "\n",
       "| abil &lt; -4 &lt;lgl&gt; | n &lt;int&gt; |\n",
       "|---|---|\n",
       "| FALSE | 1216 |\n",
       "|  TRUE |   14 |\n",
       "\n"
      ],
      "text/plain": [
       "  abil < -4 n   \n",
       "1 FALSE     1216\n",
       "2  TRUE       14"
      ]
     },
     "metadata": {},
     "output_type": "display_data"
    }
   ],
   "source": [
    "# (v)\n",
    "count(htv, abil < -4)"
   ]
  },
  {
   "cell_type": "code",
   "execution_count": 185,
   "id": "caa3f68e",
   "metadata": {},
   "outputs": [
    {
     "data": {
      "image/png": "[encoded data removed]",
      "text/plain": [
       "Plot with title “Histogram of htv$abil”"
      ]
     },
     "metadata": {
      "image/png": {
       "height": 420,
       "width": 420
      }
     },
     "output_type": "display_data"
    }
   ],
   "source": [
    "hist(htv $abil)"
   ]
  },
  {
   "cell_type": "code",
   "execution_count": 187,
   "id": "49c92693",
   "metadata": {},
   "outputs": [],
   "source": [
    "lr <- function(abil) {\n",
    "    educ <- 11.91 + 0.4015*abil + 0.0506*abil**2\n",
    "    return(educ)\n",
    "    }"
   ]
  },
  {
   "cell_type": "code",
   "execution_count": 189,
   "id": "b6802432",
   "metadata": {},
   "outputs": [],
   "source": [
    "htv_plus <- mutate(htv, educ_hat = lr(abil))"
   ]
  },
  {
   "cell_type": "code",
   "execution_count": 208,
   "id": "67fcf2f1",
   "metadata": {},
   "outputs": [
    {
     "data": {
      "image/png": "[encoded data removed]",
      "text/plain": [
       "plot without title"
      ]
     },
     "metadata": {
      "image/png": {
       "height": 420,
       "width": 420
      }
     },
     "output_type": "display_data"
    }
   ],
   "source": [
    "ggplot(htv_plus, aes(abil, educ_hat)) + \n",
    "geom_point(alpha=0.1, size =1, color=\"red\") + \n",
    "geom_point(mapping=aes(abil, educ), size =1, alpha = 0.1)"
   ]
  },
  {
   "cell_type": "code",
   "execution_count": null,
   "id": "b67a196b",
   "metadata": {},
   "outputs": [],
   "source": []
  },
  {
   "cell_type": "markdown",
   "id": "534f0374",
   "metadata": {},
   "source": [
    "## C11"
   ]
  },
  {
   "cell_type": "code",
   "execution_count": 209,
   "id": "c00f7017",
   "metadata": {},
   "outputs": [
    {
     "name": "stdout",
     "output_type": "stream",
     "text": [
      "'data.frame':\t229 obs. of  18 variables:\n",
      " $ dcode   : int  63010 63010 63270 63270 63010 63010 63010 63130 63130 63130 ...\n",
      " $ bcode   : int  3030 3133 2023 2978 316 5670 1494 1631 1753 2254 ...\n",
      " $ math4   : num  92.8 100 72.1 76.1 95.2 88.6 95.2 66.7 83.9 95.7 ...\n",
      " $ read4   : num  82.5 94.3 46.5 65.7 80.6 72.7 90.5 46.3 44.6 56.5 ...\n",
      " $ enroll  : int  607 370 220 356 329 331 288 452 428 238 ...\n",
      " $ exppp   : num  6620 6620 5608 5830 6620 ...\n",
      " $ free    : num  1 0 5.9 8.1 0.3 1.2 12.2 50.2 40.2 24.4 ...\n",
      " $ reduced : num  0.7 0 5 2.8 0.3 0.9 5.2 17.5 10 17.6 ...\n",
      " $ lunch   : num  1.7 0 10.9 10.9 0.6 2.1 17.4 67.7 50.2 42 ...\n",
      " $ medinc  : int  110322 110322 65119 65119 109313 109313 109313 43750 43750 43750 ...\n",
      " $ totchild: int  4076 4076 2524 2524 3486 3486 3486 4651 4651 4651 ...\n",
      " $ married : int  3542 3542 2091 2091 3241 3241 3241 3258 3258 3258 ...\n",
      " $ single  : int  534 534 433 433 245 245 245 1393 1393 1393 ...\n",
      " $ pctsgle : num  13.1 13.1 17.16 17.16 7.03 ...\n",
      " $ zipcode : int  48009 48009 48017 48017 48025 48025 48025 48030 48030 48030 ...\n",
      " $ lenroll : num  6.41 5.91 5.39 5.87 5.8 ...\n",
      " $ lexppp  : num  8.8 8.8 8.63 8.67 8.8 ...\n",
      " $ lmedinc : num  11.6 11.6 11.1 11.1 11.6 ...\n"
     ]
    }
   ],
   "source": [
    "str(meapsingle)"
   ]
  },
  {
   "cell_type": "code",
   "execution_count": 210,
   "id": "94043b2f",
   "metadata": {},
   "outputs": [
    {
     "data": {
      "text/plain": [
       "\n",
       "Call:\n",
       "lm(formula = math4 ~ pctsgle, data = meapsingle)\n",
       "\n",
       "Residuals:\n",
       "   Min     1Q Median     3Q    Max \n",
       "-47.79  -8.31   1.60   8.09  50.32 \n",
       "\n",
       "Coefficients:\n",
       "            Estimate Std. Error t value Pr(>|t|)    \n",
       "(Intercept)  96.7704     1.5968    60.6   <2e-16 ***\n",
       "pctsgle      -0.8329     0.0707   -11.8   <2e-16 ***\n",
       "---\n",
       "Signif. codes:  0 ‘***’ 0.001 ‘**’ 0.01 ‘*’ 0.05 ‘.’ 0.1 ‘ ’ 1\n",
       "\n",
       "Residual standard error: 12.5 on 227 degrees of freedom\n",
       "Multiple R-squared:  0.38,\tAdjusted R-squared:  0.377 \n",
       "F-statistic:  139 on 1 and 227 DF,  p-value: <2e-16\n"
      ]
     },
     "metadata": {},
     "output_type": "display_data"
    }
   ],
   "source": [
    "# (i) Effect seems large for pctsgle\n",
    "summary(lm(math4 ~ pctsgle, meapsingle))"
   ]
  },
  {
   "cell_type": "code",
   "execution_count": 211,
   "id": "3c6af3e6",
   "metadata": {},
   "outputs": [
    {
     "data": {
      "text/plain": [
       "\n",
       "Call:\n",
       "lm(formula = math4 ~ pctsgle + lmedinc + free, data = meapsingle)\n",
       "\n",
       "Residuals:\n",
       "   Min     1Q Median     3Q    Max \n",
       "-34.92  -7.19   0.93   7.31  50.15 \n",
       "\n",
       "Coefficients:\n",
       "            Estimate Std. Error t value    Pr(>|t|)    \n",
       "(Intercept)  51.7232    58.4781    0.88        0.38    \n",
       "pctsgle      -0.1996     0.1587   -1.26        0.21    \n",
       "lmedinc       3.5601     5.0417    0.71        0.48    \n",
       "free         -0.3964     0.0703   -5.64 0.000000052 ***\n",
       "---\n",
       "Signif. codes:  0 ‘***’ 0.001 ‘**’ 0.01 ‘*’ 0.05 ‘.’ 0.1 ‘ ’ 1\n",
       "\n",
       "Residual standard error: 11.7 on 225 degrees of freedom\n",
       "Multiple R-squared:  0.46,\tAdjusted R-squared:  0.453 \n",
       "F-statistic: 63.8 on 3 and 225 DF,  p-value: <2e-16\n"
      ]
     },
     "metadata": {},
     "output_type": "display_data"
    }
   ],
   "source": [
    "# (ii) Omitted variable bias\n",
    "summary(lm(math4 ~ pctsgle + lmedinc + free, meapsingle))"
   ]
  },
  {
   "cell_type": "code",
   "execution_count": 212,
   "id": "065f38ec",
   "metadata": {},
   "outputs": [
    {
     "data": {
      "text/html": [
       "-0.868636369700136"
      ],
      "text/latex": [
       "-0.868636369700136"
      ],
      "text/markdown": [
       "-0.868636369700136"
      ],
      "text/plain": [
       "[1] -0.8686"
      ]
     },
     "metadata": {},
     "output_type": "display_data"
    }
   ],
   "source": [
    "cor(meapsingle$pctsgle, meapsingle$lmedinc)"
   ]
  },
  {
   "cell_type": "code",
   "execution_count": 213,
   "id": "e5aa1813",
   "metadata": {},
   "outputs": [
    {
     "data": {
      "text/html": [
       "0.826357043544676"
      ],
      "text/latex": [
       "0.826357043544676"
      ],
      "text/markdown": [
       "0.826357043544676"
      ],
      "text/plain": [
       "[1] 0.8264"
      ]
     },
     "metadata": {},
     "output_type": "display_data"
    }
   ],
   "source": [
    "cor(meapsingle$pctsgle, meapsingle$free)"
   ]
  },
  {
   "cell_type": "code",
   "execution_count": 214,
   "id": "dbd6ad53",
   "metadata": {},
   "outputs": [
    {
     "data": {
      "text/html": [
       "-0.746970347229489"
      ],
      "text/latex": [
       "-0.746970347229489"
      ],
      "text/markdown": [
       "-0.746970347229489"
      ],
      "text/plain": [
       "[1] -0.747"
      ]
     },
     "metadata": {},
     "output_type": "display_data"
    }
   ],
   "source": [
    "# (iii) Yep, poorer people are eligible for free lunches\n",
    "cor(meapsingle$free, meapsingle$lmedinc)"
   ]
  },
  {
   "cell_type": "code",
   "execution_count": 233,
   "id": "f79b4ecc",
   "metadata": {},
   "outputs": [
    {
     "data": {
      "text/html": [
       "5.74098098076413"
      ],
      "text/latex": [
       "5.74098098076413"
      ],
      "text/markdown": [
       "5.74098098076413"
      ],
      "text/plain": [
       "[1] 5.741"
      ]
     },
     "metadata": {},
     "output_type": "display_data"
    }
   ],
   "source": [
    "# (v)\n",
    "# VIF for pctsgle\n",
    "1/(1-summary(lm(pctsgle ~ lmedinc + free, meapsingle))$r.squared)"
   ]
  },
  {
   "cell_type": "code",
   "execution_count": 234,
   "id": "4b164431",
   "metadata": {},
   "outputs": [
    {
     "data": {
      "text/html": [
       "4.11881239100156"
      ],
      "text/latex": [
       "4.11881239100156"
      ],
      "text/markdown": [
       "4.11881239100156"
      ],
      "text/plain": [
       "[1] 4.119"
      ]
     },
     "metadata": {},
     "output_type": "display_data"
    }
   ],
   "source": [
    "# VIF for lmedinc\n",
    "1/(1-summary(lm(lmedinc ~ pctsgle + free, meapsingle))$r.squared)"
   ]
  },
  {
   "cell_type": "code",
   "execution_count": 235,
   "id": "766d2094",
   "metadata": {},
   "outputs": [
    {
     "data": {
      "text/html": [
       "3.18807914563828"
      ],
      "text/latex": [
       "3.18807914563828"
      ],
      "text/markdown": [
       "3.18807914563828"
      ],
      "text/plain": [
       "[1] 3.188"
      ]
     },
     "metadata": {},
     "output_type": "display_data"
    }
   ],
   "source": [
    "# VIF for free\n",
    "1/(1-summary(lm(free ~ lmedinc + pctsgle, meapsingle))$r.squared)"
   ]
  },
  {
   "cell_type": "code",
   "execution_count": null,
   "id": "941c52ac",
   "metadata": {},
   "outputs": [],
   "source": []
  },
  {
   "cell_type": "markdown",
   "id": "d0af727b",
   "metadata": {},
   "source": [
    "## C12"
   ]
  },
  {
   "cell_type": "code",
   "execution_count": 236,
   "id": "d1518a9f",
   "metadata": {},
   "outputs": [
    {
     "name": "stdout",
     "output_type": "stream",
     "text": [
      "'data.frame':\t856 obs. of  17 variables:\n",
      " $ age     : int  23 23 21 22 22 22 22 22 22 21 ...\n",
      " $ work    : num  15 0 25 30 25 0 20 20 28 22.5 ...\n",
      " $ study   : num  10 22.5 12 40 15 30 25 15 7 25 ...\n",
      " $ econhs  : int  0 1 0 0 1 0 1 0 0 0 ...\n",
      " $ colgpa  : num  3.49 2.1 3.09 2.68 3.75 ...\n",
      " $ hsgpa   : num  3.35 3.22 3.31 3.98 3.89 ...\n",
      " $ acteng  : int  24 23 21 31 28 25 15 28 28 18 ...\n",
      " $ actmth  : int  26 20 24 28 31 30 19 30 28 19 ...\n",
      " $ act     : int  27 24 21 31 32 28 18 32 30 17 ...\n",
      " $ mathscr : int  10 9 8 10 8 10 9 9 6 9 ...\n",
      " $ male    : int  1 1 1 0 1 1 0 1 0 0 ...\n",
      " $ calculus: int  1 0 1 1 1 1 1 1 0 1 ...\n",
      " $ attexc  : int  0 0 1 0 0 1 0 1 1 0 ...\n",
      " $ attgood : int  0 0 0 1 1 0 1 0 0 1 ...\n",
      " $ fathcoll: int  1 0 0 1 0 0 0 1 0 0 ...\n",
      " $ mothcoll: int  1 1 1 1 1 1 0 1 1 0 ...\n",
      " $ score   : num  84.4 57.4 66.4 81.2 95.9 ...\n"
     ]
    }
   ],
   "source": [
    "str(econmath)"
   ]
  },
  {
   "cell_type": "code",
   "execution_count": 244,
   "id": "b8386606",
   "metadata": {},
   "outputs": [
    {
     "data": {
      "text/html": [
       "<table class=\"dataframe\">\n",
       "<caption>A data.frame: 1 × 6</caption>\n",
       "<thead>\n",
       "\t<tr><th scope=col>max(score)</th><th scope=col>mean(score)</th><th scope=col>mean(actmth)</th><th scope=col>sd(actmth)</th><th scope=col>mean(acteng)</th><th scope=col>sd(acteng)</th></tr>\n",
       "\t<tr><th scope=col>&lt;dbl&gt;</th><th scope=col>&lt;dbl&gt;</th><th scope=col>&lt;dbl&gt;</th><th scope=col>&lt;dbl&gt;</th><th scope=col>&lt;dbl&gt;</th><th scope=col>&lt;dbl&gt;</th></tr>\n",
       "</thead>\n",
       "<tbody>\n",
       "\t<tr><td>98.44</td><td>72.61</td><td>23.21</td><td>3.773</td><td>22.59</td><td>3.789</td></tr>\n",
       "</tbody>\n",
       "</table>\n"
      ],
      "text/latex": [
       "A data.frame: 1 × 6\n",
       "\\begin{tabular}{llllll}\n",
       " max(score) & mean(score) & mean(actmth) & sd(actmth) & mean(acteng) & sd(acteng)\\\\\n",
       " <dbl> & <dbl> & <dbl> & <dbl> & <dbl> & <dbl>\\\\\n",
       "\\hline\n",
       "\t 98.44 & 72.61 & 23.21 & 3.773 & 22.59 & 3.789\\\\\n",
       "\\end{tabular}\n"
      ],
      "text/markdown": [
       "\n",
       "A data.frame: 1 × 6\n",
       "\n",
       "| max(score) &lt;dbl&gt; | mean(score) &lt;dbl&gt; | mean(actmth) &lt;dbl&gt; | sd(actmth) &lt;dbl&gt; | mean(acteng) &lt;dbl&gt; | sd(acteng) &lt;dbl&gt; |\n",
       "|---|---|---|---|---|---|\n",
       "| 98.44 | 72.61 | 23.21 | 3.773 | 22.59 | 3.789 |\n",
       "\n"
      ],
      "text/plain": [
       "  max(score) mean(score) mean(actmth) sd(actmth) mean(acteng) sd(acteng)\n",
       "1 98.44      72.61       23.21        3.773      22.59        3.789     "
      ]
     },
     "metadata": {},
     "output_type": "display_data"
    }
   ],
   "source": [
    "# (i)\n",
    "econmath %>% drop_na() %>% summarize(max(score), mean(score), mean(actmth), sd(actmth), mean(acteng), sd(acteng))"
   ]
  },
  {
   "cell_type": "code",
   "execution_count": 245,
   "id": "344c029a",
   "metadata": {},
   "outputs": [
    {
     "data": {
      "text/plain": [
       "\n",
       "Call:\n",
       "lm(formula = score ~ colgpa + actmth + acteng, data = econmath)\n",
       "\n",
       "Residuals:\n",
       "   Min     1Q Median     3Q    Max \n",
       "-39.86  -6.21   0.44   6.81  32.67 \n",
       "\n",
       "Coefficients:\n",
       "            Estimate Std. Error t value Pr(>|t|)    \n",
       "(Intercept)  16.1740     2.8004    5.78  1.1e-08 ***\n",
       "colgpa       12.3662     0.7151   17.29  < 2e-16 ***\n",
       "actmth        0.8834     0.1122    7.87  1.1e-14 ***\n",
       "acteng        0.0518     0.1111    0.47     0.64    \n",
       "---\n",
       "Signif. codes:  0 ‘***’ 0.001 ‘**’ 0.01 ‘*’ 0.05 ‘.’ 0.1 ‘ ’ 1\n",
       "\n",
       "Residual standard error: 10.3 on 810 degrees of freedom\n",
       "  (42 observations deleted due to missingness)\n",
       "Multiple R-squared:  0.397,\tAdjusted R-squared:  0.395 \n",
       "F-statistic:  178 on 3 and 810 DF,  p-value: <2e-16\n"
      ]
     },
     "metadata": {},
     "output_type": "display_data"
    }
   ],
   "source": [
    "# (ii)\n",
    "summary(lm(score ~ colgpa + actmth + acteng, econmath))"
   ]
  },
  {
   "cell_type": "code",
   "execution_count": null,
   "id": "503372fc",
   "metadata": {},
   "outputs": [],
   "source": []
  },
  {
   "cell_type": "code",
   "execution_count": null,
   "id": "0bfc9958",
   "metadata": {},
   "outputs": [],
   "source": []
  },
  {
   "cell_type": "code",
   "execution_count": null,
   "id": "f161e2c4",
   "metadata": {},
   "outputs": [],
   "source": []
  },
  {
   "cell_type": "code",
   "execution_count": null,
   "id": "ca9a1bbf",
   "metadata": {},
   "outputs": [],
   "source": []
  },
  {
   "cell_type": "code",
   "execution_count": null,
   "id": "fecf43df",
   "metadata": {},
   "outputs": [],
   "source": []
  }
 ],
 "metadata": {
  "kernelspec": {
   "display_name": "R 4.2",
   "language": "R",
   "name": "ir42"
  },
  "language_info": {
   "codemirror_mode": "r",
   "file_extension": ".r",
   "mimetype": "text/x-r-source",
   "name": "R",
   "pygments_lexer": "r",
   "version": "4.2.1"
  }
 },
 "nbformat": 4,
 "nbformat_minor": 5
}
